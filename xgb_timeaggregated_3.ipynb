{
 "cells": [
  {
   "cell_type": "code",
   "execution_count": null,
   "metadata": {
    "collapsed": false
   },
   "outputs": [],
   "source": [
    "import pandas as pd\n",
    "import numpy as np\n",
    "path = ''\n",
    "import gc\n",
    "import xgboost as xgb\n",
    "#from sklearn.cross_validation import train_test_split \n",
    "from sklearn.metrics import mean_squared_error as rmse\n",
    "from sklearn.cross_validation import KFold\n",
    "import sys\n",
    "# sys.path.append(path+'/src/python/')\n",
    "from data_load import loadHDF_train\n",
    "from data_load import loadHDF_test\n",
    "from time import time\n",
    "from sys import stdout\n",
    "from copy import deepcopy\n",
    "\n",
    "seed = 3555\n",
    "np.random.seed(seed)\n",
    "\n",
    "kfold=3\n",
    "params = {\"seed\": np.random.randint(0,1000),\n",
    "          \"eta\": 0.1,  \n",
    "          \"objective\":\"reg:linear\", \n",
    "          \"max_depth\":5, \"subsample\":0.3, \"colsample_bylevel\": 0.5, \"colsample_bytree\": 0.5, \n",
    "          \"eval_metric\": \"rmse\", \n",
    "          \"min_child_weight\": 1000, 'tree_method':'exact',\n",
    "          \"booster\":'gbtree', 'rate_drop': 0.5, 'silent':1}\n",
    "early_stop = 50\n",
    "num_round = 50\n",
    "clip = [1.,50.]\n",
    "unit = 3600.*24.\n",
    "\n",
    "outputfilehead = 'xgb_MACnt.dM1dVal1.CV5.1'\n",
    "finalsubmitfile = '0909_'+outputfilehead+'.csv'\n",
    "datafilehead = path+'feat_MACnt.dM1dVal1.'\n",
    "colnames = [u'aMA15d_custid', u'medMA15d_custid', u'pMA15d_custid', u'aMA5d_custid',\n",
    "           u'medMA5d_custid', u'pMA5d_custid', u'MA1d_custid', u'medMA1d_custid',\n",
    "           u'aMA15d_currency', u'medMA15d_currency', u'pMA15d_currency',\n",
    "           u'aMA5d_currency', u'medMA5d_currency', u'pMA5d_currency',\n",
    "           u'MA1d_currency', u'medMA1d_currency', u'aMA15d_plt', u'medMA15d_plt',\n",
    "           u'pMA15d_plt', u'aMA5d_plt', u'medMA5d_plt', u'pMA5d_plt', u'MA1d_plt',\n",
    "           u'medMA1d_plt']\n",
    "#didn't use\n",
    "np.random.seed(seed)\n",
    "np.random.randint(0,1000)"
   ]
  },
  {
   "cell_type": "code",
   "execution_count": null,
   "metadata": {
    "collapsed": true
   },
   "outputs": [],
   "source": [
    "def preprocess(d, timelimit=[0,999999999], missing=0, index = []):\n",
    "#    if(len(index) > 0):\n",
    "#        index = index[(d['timestamp'] >= timelimit[0]) & (d['timestamp'] < timelimit[1])]\n",
    "\n",
    "#    dcp = deepcopy(d[(d['timestamp'] >= timelimit[0]) & (d['timestamp'] < timelimit[1])])\n",
    "#    del d\n",
    "#    gc.collect()\n",
    "#    d.drop('timestamp', inplace=True, axis=1)\n",
    "    d.fillna(missing, inplace=True)\n",
    "    if(len(index) == 0):\n",
    "        return d\n",
    "    else:\n",
    "        return d, index"
   ]
  },
  {
   "cell_type": "code",
   "execution_count": null,
   "metadata": {
    "collapsed": false
   },
   "outputs": [],
   "source": [
    "## redo the training for train2, test2\n",
    "\n",
    "dtr2, pred2, dtr2_index = loadHDF_train(datafilehead+'train.h5', key='train',columns = colnames)"
   ]
  },
  {
   "cell_type": "code",
   "execution_count": null,
   "metadata": {
    "collapsed": true
   },
   "outputs": [],
   "source": [
    "## preprocess\n",
    "dtr2, dtr2_index = preprocess(dtr2, missing=0, index=dtr2_index)\n",
    "pred2 = preprocess(pred2, missing=0)"
   ]
  },
  {
   "cell_type": "code",
   "execution_count": null,
   "metadata": {
    "collapsed": false
   },
   "outputs": [],
   "source": [
    "dte2, dte2_index = loadHDF_test(datafilehead+'test.h5', key='test', columns = colnames)\n",
    "dte2 = preprocess(dte2, missing=0)\n",
    "num_te2 = dte2.shape[0]\n",
    "dtest2 = xgb.DMatrix(dte2, missing=0)\n",
    "fmap = dte2.columns\n",
    "del dte2\n",
    "gc.collect()\n",
    "\n",
    "kf = KFold(pred2.shape[0], n_folds=kfold, random_state=np.random.randint(0,1000))\n",
    "ptest = pd.DataFrame({'invest': np.zeros(num_te2)},index=dte2_index)\n",
    "score_list = []\n",
    "sc_val = []\n",
    "val_result = pd.DataFrame()\n",
    "featImp = pd.DataFrame({\"gain\": np.zeros(len(fmap)), \"fscore\": np.zeros(len(fmap))}, index = fmap)\n",
    "featImp.sort_index(inplace=True)\n",
    "for k, (tr_index, v_index) in enumerate(kf):\n",
    "    train_index = dtr2_index[tr_index]\n",
    "    val_index = dtr2_index[v_index]\n",
    "\n",
    "    m_start = time()\n",
    "    X_train, X_val = dtr2.loc[train_index], dtr2.loc[val_index]\n",
    "    y_train, y_val = pred2.loc[train_index], pred2.loc[val_index]\n",
    "\n",
    "    dtrain = xgb.DMatrix(X_train, label=y_train, missing=0)\n",
    "    dvalid = xgb.DMatrix(X_val, label=y_val, missing=0)\n",
    "    \n",
    "    X_valIndex = X_val.index\n",
    "    del X_train, X_val\n",
    "    gc.collect()\n",
    "    watchlist = [(dvalid, 'eval'), (dtrain,'train')]\n",
    "    \n",
    "    params['seed'] = np.random.randint(0,1000)    \n",
    "    model_xgb = xgb.train(params, dtrain, num_round, watchlist, \n",
    "                          verbose_eval=False, maximize=False, early_stopping_rounds=early_stop)\n",
    "    \n",
    "    pred_train = model_xgb.predict(dtrain)\n",
    "    pred_val = model_xgb.predict(dvalid)\n",
    "    pred_test = model_xgb.predict(dtest2)\n",
    "\n",
    "    \n",
    "    pred_train = np.clip(pred_train, clip[0], clip[1])\n",
    "    pred_val = np.clip(pred_val, clip[0], clip[1])\n",
    "    pred_test = np.clip(pred_test, clip[0], clip[1])\n",
    "    \n",
    "    m_end = time()\n",
    "\n",
    "    featImp0 = pd.DataFrame({\"gain\": model_xgb.get_score(importance_type='gain'),\n",
    "                             \"fscore\":model_xgb.get_score(importance_type='weight')})\n",
    "    featImp['gain'] = featImp0['gain']/kfold + featImp['gain']\n",
    "    featImp['fscore'] = featImp0['fscore']/kfold + featImp['fscore']\n",
    "                            \n",
    "    score_train = rmse(y_train, pred_train)\n",
    "    score_val = rmse(y_val, pred_val)\n",
    "    dd = pd.DataFrame({'pred':pred_val,'invest':y_val['invest'], \n",
    "                       'fold':(np.zeros(y_val.shape[0])+k)}, \n",
    "                      index=X_valIndex)\n",
    "\n",
    "    ptest = pd.concat([ptest, pd.DataFrame({k:1./pred_test},index=dte2_index)],axis=1) \n",
    "    \n",
    "    val_result = pd.concat([val_result, dd])\n",
    "    score_list.append({'fold':k,'score_valid': score_val, \n",
    "                       'score_train': score_train, 'time':m_end-m_start})\n",
    "    sc_val.append(score_val)\n",
    "\n",
    "    print \"fold:{0}, train={1:0.3f}, val={2:0.3f}, val1={3:0.3f}, val2={4:0.3f}, proc_time={5:5.0f}\"\\\n",
    "    .format(k,score_train, score_val,0, 0, m_end-m_start)\n",
    "    stdout.flush()\n",
    "    del y_train, y_val, dtrain, dvalid, pred_train, pred_val, pred_test, model_xgb\n",
    "    gc.collect()"
   ]
  },
  {
   "cell_type": "code",
   "execution_count": null,
   "metadata": {
    "collapsed": false
   },
   "outputs": [],
   "source": [
    "columns = ptest.columns[1:]\n",
    "ptest['invest'] = kfold/(ptest[columns].sum(axis=1))    \n",
    "ptest = ptest['invest']\n",
    "\n",
    "## Save validate to file\n",
    "ptest.to_hdf(path+outputfilehead+'.te.h5','test', format='table')\n",
    "val_result.to_hdf(path+outputfilehead+'.tr.h5','model',format='table')\n",
    "\n",
    "score_list = pd.DataFrame(score_list)\n",
    "    \n",
    "totalTime = score_list['time'].sum() / 60.\n",
    "meanLCV = score_list['score_valid'].mean()\n",
    "stdLCV = score_list['score_valid'].std()\n",
    "\n",
    "print('num_round: {0}, early_stop: {1}'.format(num_round,early_stop))\n",
    "print(params)\n",
    "print('### Summary: score_valid mean = {0:0.5f} pm {1:0.5f} with total process time: {2:5.0f}'\\\n",
    "      .format(meanLCV, stdLCV, totalTime))\n",
    "stdout.flush()\n",
    "\n",
    "## write out submission file\n",
    "ptest.to_csv(path+finalsubmitfile,header=False,index=False)\n",
    "\n",
    "print('### feature importance')\n",
    "featImp.sort_values(by=['gain'],axis=0, ascending=False, inplace=True)\n",
    "print(featImp.head(10))\n",
    "featImp.to_csv(path+outputfilehead+'.xgbfeatImp.2.csv')\n",
    "\n",
    "del dtr2, dtr2_index, pred2, dte2_index\n",
    "gc.collect()"
   ]
  },
  {
   "cell_type": "code",
   "execution_count": null,
   "metadata": {
    "collapsed": true
   },
   "outputs": [],
   "source": []
  }
 ],
 "metadata": {
  "anaconda-cloud": {},
  "kernelspec": {
   "display_name": "Python [Root]",
   "language": "python",
   "name": "Python [Root]"
  },
  "language_info": {
   "codemirror_mode": {
    "name": "ipython",
    "version": 2
   },
   "file_extension": ".py",
   "mimetype": "text/x-python",
   "name": "python",
   "nbconvert_exporter": "python",
   "pygments_lexer": "ipython2",
   "version": "2.7.12"
  }
 },
 "nbformat": 4,
 "nbformat_minor": 0
}
