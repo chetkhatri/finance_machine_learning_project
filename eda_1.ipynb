{
 "cells": [
  {
   "cell_type": "code",
   "execution_count": 7,
   "metadata": {
    "collapsed": false
   },
   "outputs": [],
   "source": [
    "import numpy as np\n",
    "import pandas as pd\n",
    "from pandas import Series,DataFrame\n",
    " \n",
    "file = \"train_data.csv\"\n",
    "df_train = pd.read_csv(file, nrows = 200000)  "
   ]
  },
  {
   "cell_type": "markdown",
   "metadata": {},
   "source": [
    "# Check if there are more than one group for each customer"
   ]
  },
  {
   "cell_type": "code",
   "execution_count": 8,
   "metadata": {
    "collapsed": false
   },
   "outputs": [
    {
     "name": "stdout",
     "output_type": "stream",
     "text": [
      "Number of customers = 2327\n"
     ]
    }
   ],
   "source": [
    "group1 = df_train['groupid'].groupby(df_train['custid']).unique()\n",
    "print \"Number of customers = %1i\" %len(group1)\n",
    "# check if there are more than one groups for each customer\n",
    "for i in xrange(len(group1)):\n",
    "    if len(group1[i]) > 1:\n",
    "        print \"Number of groups per customer is greater than 1\"\n",
    "    else:\n",
    "        pass"
   ]
  },
  {
   "cell_type": "markdown",
   "metadata": {},
   "source": [
    "# Check if each customer uses more than one currancy"
   ]
  },
  {
   "cell_type": "code",
   "execution_count": 9,
   "metadata": {
    "collapsed": false
   },
   "outputs": [
    {
     "name": "stdout",
     "output_type": "stream",
     "text": [
      "Number of customers = 2327\n"
     ]
    },
    {
     "data": {
      "text/plain": [
       "count    2327.0\n",
       "mean        1.0\n",
       "std         0.0\n",
       "min         1.0\n",
       "25%         1.0\n",
       "50%         1.0\n",
       "75%         1.0\n",
       "max         1.0\n",
       "dtype: float64"
      ]
     },
     "execution_count": 9,
     "metadata": {},
     "output_type": "execute_result"
    }
   ],
   "source": [
    "group1 = df_train['currency'].groupby(df_train['custid']).unique()\n",
    "print \"Number of customers = %1i\" %len(group1)\n",
    "# check if there are more than one currency for each customer\n",
    "counter = []\n",
    "for i in xrange(len(group1)):\n",
    "    counter.append(len(group1[i]))\n",
    "counter = Series(counter)\n",
    "counter.describe()"
   ]
  },
  {
   "cell_type": "markdown",
   "metadata": {},
   "source": [
    "# Check if each customer uses more than one platform"
   ]
  },
  {
   "cell_type": "code",
   "execution_count": 10,
   "metadata": {
    "collapsed": false
   },
   "outputs": [
    {
     "name": "stdout",
     "output_type": "stream",
     "text": [
      "Number of customers = 2327\n",
      "Number of platforms = 1: 2132\n",
      "Number of platforms = 2: 184\n",
      "Number of platforms = 3: 11\n",
      "Number of platforms = 4: 0\n"
     ]
    }
   ],
   "source": [
    "group1 = df_train['platform'].groupby(df_train['custid']).unique()\n",
    "print \"Number of customers = %1i\" %len(group1)\n",
    "# check if there are more than one platform for each customer\n",
    "counter = []\n",
    "for i in xrange(len(group1)):\n",
    "    counter.append(len(group1[i]))\n",
    "counter = Series(counter)\n",
    "counter.describe() \n",
    "print \"Number of platforms = 1: %1i\" %counter[counter == 1].count()\n",
    "print \"Number of platforms = 2: %1i\" %counter[counter == 2].count()\n",
    "print \"Number of platforms = 3: %1i\" %counter[counter == 3].count()\n",
    "print \"Number of platforms = 4: %1i\" %counter[counter == 4].count()\n",
    "\n",
    "import matplotlib.pyplot as plt\n",
    "#%matplotlib inline\n",
    "#plt.hist(dataset1,normed=True,color='indianred',alpha=0.5,bins=20)\n",
    "plt.xlabel('Number of Platforms',fontsize=20)\n",
    "plt.ylabel('Number of Customers',fontsize=20)\n",
    "plt.title(\"\")\n",
    "plt.axis([1,4,0,2500])\n",
    "plt.grid(True)\n",
    "plt.xticks(np.arange(1, 4, 1),fontsize=20)\n",
    "plt.yticks(fontsize=20)\n",
    "plt.hist(counter,color='indianred',bins=range(10))\n",
    "plt.show()"
   ]
  },
  {
   "cell_type": "markdown",
   "metadata": {},
   "source": [
    "# Check the relationship between the currency and platform"
   ]
  },
  {
   "cell_type": "code",
   "execution_count": 5,
   "metadata": {
    "collapsed": false
   },
   "outputs": [
    {
     "name": "stdout",
     "output_type": "stream",
     "text": [
      "Number of currencies = 6\n",
      "Number of platforms = 1: 1\n",
      "Number of platforms = 2: 0\n",
      "Number of platforms = 3: 1\n",
      "Number of platforms = 4: 4\n",
      "Number of platforms = 4\n",
      "Number of currencies = 1: 0\n",
      "Number of currencies = 2: 0\n",
      "Number of currencies = 3: 0\n",
      "Number of currencies = 4: 1\n",
      "Number of currencies = 5: 2\n",
      "Number of currencies = 6: 1\n"
     ]
    }
   ],
   "source": [
    "group1 = df_train['platform'].groupby(df_train['currency']).unique()\n",
    "print \"Number of currencies = %1i\" %len(group1)\n",
    "# check if there are more than one platform for each currency\n",
    "counter = []\n",
    "for i in xrange(len(group1)):\n",
    "    counter.append(len(group1[i]))\n",
    "counter = Series(counter)\n",
    "counter.describe() \n",
    "print \"Number of platforms = 1: %1i\" %counter[counter == 1].count()\n",
    "print \"Number of platforms = 2: %1i\" %counter[counter == 2].count()\n",
    "print \"Number of platforms = 3: %1i\" %counter[counter == 3].count()\n",
    "print \"Number of platforms = 4: %1i\" %counter[counter == 4].count()\n",
    "\n",
    "import matplotlib.pyplot as plt\n",
    "#%matplotlib inline\n",
    "#plt.hist(dataset1,normed=True,color='indianred',alpha=0.5,bins=20)\n",
    "plt.xlabel('Number of Platforms',fontsize=20)\n",
    "plt.ylabel('Number of Currencies',fontsize=20)\n",
    "plt.title(\"\")\n",
    "plt.axis([0,5,0,5])\n",
    "plt.grid(True)\n",
    "plt.xticks(np.arange(1, 5, 1),fontsize=20)\n",
    "plt.yticks(fontsize=20)\n",
    "plt.hist(counter,color='indianred',bins=range(10))\n",
    "plt.show()\n",
    "\n",
    "group1 = df_train['currency'].groupby(df_train['platform']).unique()\n",
    "print \"Number of platforms = %1i\" %len(group1)\n",
    "# check if there are more than one currency for each platform\n",
    "counter = []\n",
    "for i in xrange(len(group1)):\n",
    "    counter.append(len(group1[i]))\n",
    "counter = Series(counter)\n",
    "counter.describe() \n",
    "print \"Number of currencies = 1: %1i\" %counter[counter == 1].count()\n",
    "print \"Number of currencies = 2: %1i\" %counter[counter == 2].count()\n",
    "print \"Number of currencies = 3: %1i\" %counter[counter == 3].count()\n",
    "print \"Number of currencies = 4: %1i\" %counter[counter == 4].count()\n",
    "print \"Number of currencies = 5: %1i\" %counter[counter == 5].count()\n",
    "print \"Number of currencies = 6: %1i\" %counter[counter == 6].count()\n",
    "\n",
    "import matplotlib.pyplot as plt\n",
    "#%matplotlib inline\n",
    "#plt.hist(dataset1,normed=True,color='indianred',alpha=0.5,bins=20)\n",
    "plt.xlabel('Number of Currencies',fontsize=20)\n",
    "plt.ylabel('Number of Platforms',fontsize=20)\n",
    "plt.title(\"\")\n",
    "plt.axis([0,7,0,5])\n",
    "plt.grid(True)\n",
    "plt.xticks(np.arange(1, 7, 1),fontsize=20)\n",
    "plt.yticks(fontsize=20)\n",
    "plt.hist(counter,color='indianred',bins=range(10))\n",
    "plt.show()"
   ]
  },
  {
   "cell_type": "markdown",
   "metadata": {},
   "source": [
    "# Check the relationship between the customer and eventid"
   ]
  },
  {
   "cell_type": "code",
   "execution_count": 12,
   "metadata": {
    "collapsed": false
   },
   "outputs": [
    {
     "name": "stdout",
     "output_type": "stream",
     "text": [
      "Number of eventids = 145\n"
     ]
    }
   ],
   "source": [
    "group1 = df_train['custid'].groupby(df_train['eventid']).unique()\n",
    "print \"Number of eventids = %1i\" %len(group1)\n",
    "# check if there are more than one customer for each eventid\n",
    "counter = []\n",
    "for i in xrange(len(group1)):\n",
    "    counter.append(len(group1[i]))\n",
    "counter = Series(counter)\n",
    "counter.describe() \n",
    "\n",
    "import matplotlib.pyplot as plt\n",
    "#%matplotlib inline\n",
    "#plt.hist(dataset1,normed=True,color='indianred',alpha=0.5,bins=20)\n",
    "plt.xlabel('Number of Customers',fontsize=20)\n",
    "plt.ylabel('Number of eventids',fontsize=20)\n",
    "plt.title(\"\")\n",
    "#plt.axis([0,5,0,5])\n",
    "plt.grid(True)\n",
    "#plt.xticks(np.arange(1, 5, 1),fontsize=20)\n",
    "#plt.yticks(fontsize=20)\n",
    "plt.hist(counter,color='indianred')\n",
    "plt.show()"
   ]
  },
  {
   "cell_type": "code",
   "execution_count": null,
   "metadata": {
    "collapsed": true
   },
   "outputs": [],
   "source": []
  }
 ],
 "metadata": {
  "kernelspec": {
   "display_name": "Python 2",
   "language": "python",
   "name": "python2"
  },
  "language_info": {
   "codemirror_mode": {
    "name": "ipython",
    "version": 2
   },
   "file_extension": ".py",
   "mimetype": "text/x-python",
   "name": "python",
   "nbconvert_exporter": "python",
   "pygments_lexer": "ipython2",
   "version": "2.7.12"
  }
 },
 "nbformat": 4,
 "nbformat_minor": 0
}
