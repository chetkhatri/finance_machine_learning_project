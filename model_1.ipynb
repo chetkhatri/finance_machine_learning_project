{
 "cells": [
  {
   "cell_type": "code",
   "execution_count": 1,
   "metadata": {
    "collapsed": true
   },
   "outputs": [],
   "source": [
    "import numpy as np\n",
    "import pandas as pd\n",
    "from pandas import Series,DataFrame\n",
    "\n",
    "## Load data\n",
    "\n",
    "file = \"train_data.csv\"\n",
    "\n",
    "# df_train = pd.read_csv(file, nrows = 40730865/30) # (~ 6 days)\n",
    "# Total number or rows in train_data: 40730865 (~ 6 months)\n",
    "# df_train = pd.read_csv(file)\n",
    "\n",
    "# iter_csv = pd.read_csv(file,chunksize=100000)\n",
    "# df_train = pd.concat([chunk for chunk in iter_csv]) \n",
    "\n",
    "df_train =  pd.read_csv(file, usecols=['custid','invest'])\n",
    "# df_train = DataFrame(df_train,columns=['invest','custid'])\n",
    "days = 182"
   ]
  },
  {
   "cell_type": "code",
   "execution_count": 2,
   "metadata": {
    "collapsed": false
   },
   "outputs": [],
   "source": [
    "## Add the mean of the invetment (group by customer id) and call it invest_mean\n",
    "group_custid = df_train['invest'].groupby(df_train['custid'])\n",
    "df_custid_mean = DataFrame(group_custid.mean())\n",
    "invest_mean_temp = df_custid_mean['invest'] \n",
    "\n",
    "invest_mean = []\n",
    "for i in xrange(len(invest_mean_temp)):\n",
    "    if invest_mean_temp[i] > 15:\n",
    "        invest_mean.append(15)\n",
    "    else:    \n",
    "        invest_mean.append(invest_mean_temp[i])\n",
    "        \n",
    "custid = DataFrame(df_custid_mean.index)\n",
    "del df_custid_mean \n",
    "df_custid = DataFrame({'invest_mean':invest_mean})\n",
    "df_custid['custid'] = custid\n",
    "# df_custid = df_custid[['custid','invest_mean']]\n",
    "\n",
    "df_train = DataFrame({'invest_mean':invest_mean})\n",
    "df_train['custid'] = custid\n",
    " "
   ]
  },
  {
   "cell_type": "code",
   "execution_count": 3,
   "metadata": {
    "collapsed": false
   },
   "outputs": [
    {
     "name": "stdout",
     "output_type": "stream",
     "text": [
      "      invest_mean    custid\n",
      "0        1.043688  bd003824\n",
      "1        1.262220  bd031563\n",
      "2        1.419677  bd206778\n",
      "3        1.130870  bd221236\n",
      "4        1.029919  bd231602\n",
      "5        1.232706  bd239416\n",
      "6        1.132114  bd242316\n",
      "7        1.077176  bd268449\n",
      "8        1.377339  bd271451\n",
      "9        1.125760  bd350639\n",
      "10       1.123857  bd360322\n",
      "11       1.054209  bd364242\n",
      "12       1.168643  bd366359\n",
      "13       1.135424  bd366457\n",
      "14       1.144239  bd368091\n",
      "15       1.015205  bd372474\n",
      "16       3.399467  bd382713\n",
      "17       1.059171  bd385076\n",
      "18       1.014787  bd386824\n",
      "19       1.289898  bd409495\n",
      "20       1.560140  bd409733\n",
      "21       1.052824  bd411525\n",
      "22       1.316889  bd412942\n",
      "23       1.096977  bd418521\n",
      "24       1.030433  bd453798\n",
      "25       1.062147  bd460570\n",
      "26       1.434759  bd462263\n",
      "27       1.088737  bd472986\n",
      "28       1.146204  bd474351\n",
      "29       1.026532  bd488123\n",
      "...           ...       ...\n",
      "7197     3.583206   jj02087\n",
      "7198     1.840982   jj07397\n",
      "7199     1.009964   jj07890\n",
      "7200     1.184691   jj50107\n",
      "7201     1.085029   jj54165\n",
      "7202     1.013879   jj54169\n",
      "7203     1.062847   jj54734\n",
      "7204     2.371540   jj70365\n",
      "7205     1.075827   jj78949\n",
      "7206     1.150192   jj82075\n",
      "7207     1.183822   jj93545\n",
      "7208     1.441660   jj97465\n",
      "7209     1.206145   jk08507\n",
      "7210     1.147200   jk08985\n",
      "7211     1.040251   jk10492\n",
      "7212     1.019556   jk11247\n",
      "7213     1.126780   jk52528\n",
      "7214     4.921401   jk74285\n",
      "7215     1.584219   jk78460\n",
      "7216     1.198878   jk88002\n",
      "7217     1.115836   jk89256\n",
      "7218     3.871257   jk92099\n",
      "7219     1.139439   jl07602\n",
      "7220     1.065778   jl14639\n",
      "7221     1.237013   jl27871\n",
      "7222     1.233723   jl31382\n",
      "7223     1.146264   jl78051\n",
      "7224     1.098592   jl83699\n",
      "7225     1.171481   jm55614\n",
      "7226     1.139711   jm96699\n",
      "\n",
      "[7227 rows x 2 columns]\n"
     ]
    }
   ],
   "source": [
    "print df_train"
   ]
  },
  {
   "cell_type": "code",
   "execution_count": 4,
   "metadata": {
    "collapsed": false
   },
   "outputs": [],
   "source": [
    "file = \"test_data.csv\"\n",
    "df_test = pd.read_csv(file) \n",
    "df_test = DataFrame(df_test,columns=['custid'])\n",
    "df_test = pd.merge(df_test,df_train)\n",
    "df_test = DataFrame(df_test,columns=['invest_mean']) \n",
    "X_test = df_test "
   ]
  },
  {
   "cell_type": "code",
   "execution_count": 5,
   "metadata": {
    "collapsed": false
   },
   "outputs": [
    {
     "name": "stdout",
     "output_type": "stream",
     "text": [
      "         invest_mean\n",
      "0           1.128557\n",
      "1           1.128557\n",
      "2           1.128557\n",
      "3           1.128557\n",
      "4           1.128557\n",
      "5           1.128557\n",
      "6           1.128557\n",
      "7           1.128557\n",
      "8           1.128557\n",
      "9           1.128557\n",
      "10          1.128557\n",
      "11          1.128557\n",
      "12          1.128557\n",
      "13          1.128557\n",
      "14          1.128557\n",
      "15          1.128557\n",
      "16          1.128557\n",
      "17          1.128557\n",
      "18          1.128557\n",
      "19          1.128557\n",
      "20          1.128557\n",
      "21          1.128557\n",
      "22          1.128557\n",
      "23          1.128557\n",
      "24          1.128557\n",
      "25          1.128557\n",
      "26          1.128557\n",
      "27          1.128557\n",
      "28          1.128557\n",
      "29          1.128557\n",
      "...              ...\n",
      "4606713     1.215210\n",
      "4606714     1.215210\n",
      "4606715     1.215210\n",
      "4606716     1.215210\n",
      "4606717     1.215210\n",
      "4606718     1.215210\n",
      "4606719     1.215210\n",
      "4606720     1.215210\n",
      "4606721     1.215210\n",
      "4606722     1.215210\n",
      "4606723     1.215210\n",
      "4606724     1.215210\n",
      "4606725     1.215210\n",
      "4606726     1.215210\n",
      "4606727     1.215210\n",
      "4606728     1.215210\n",
      "4606729     1.215210\n",
      "4606730     1.215210\n",
      "4606731     1.215210\n",
      "4606732     1.215210\n",
      "4606733     1.215210\n",
      "4606734     1.215210\n",
      "4606735     1.215210\n",
      "4606736     1.215210\n",
      "4606737     1.215210\n",
      "4606738     1.215210\n",
      "4606739     1.215210\n",
      "4606740     1.215210\n",
      "4606741     1.215210\n",
      "4606742     1.215210\n",
      "\n",
      "[4606743 rows x 1 columns]\n"
     ]
    }
   ],
   "source": [
    "print X_test"
   ]
  },
  {
   "cell_type": "code",
   "execution_count": 6,
   "metadata": {
    "collapsed": false
   },
   "outputs": [
    {
     "name": "stdout",
     "output_type": "stream",
     "text": [
      "            invest    custid  custid_2\n",
      "0         1.008016  bk084816  1.049691\n",
      "1         1.008016  bk084816  1.049691\n",
      "2         1.008016  bk084816  1.049691\n",
      "3         1.016032  bk084816  1.049691\n",
      "4         1.016032  bk084816  1.049691\n",
      "5         1.008016  bk084816  1.049691\n",
      "6         1.016032  bk084816  1.049691\n",
      "7         1.008016  bk084816  1.049691\n",
      "8         1.016032  bk084816  1.049691\n",
      "9         1.008016  bk084816  1.049691\n",
      "10        1.008016  bk084816  1.049691\n",
      "11        1.016032  bk084816  1.049691\n",
      "12        1.008016  bk084816  1.049691\n",
      "13        1.008016  bk084816  1.049691\n",
      "14        1.008016  bk084816  1.049691\n",
      "15        1.008016  bk084816  1.049691\n",
      "16        1.008016  bk084816  1.049691\n",
      "17        1.008016  bk084816  1.049691\n",
      "18        1.008016  bk084816  1.049691\n",
      "19        1.008016  bk084816  1.049691\n",
      "20        1.008016  bk084816  1.049691\n",
      "21        1.008016  bk084816  1.049691\n",
      "22        1.008016  bk084816  1.049691\n",
      "23        1.008016  bk084816  1.049691\n",
      "24        1.008016  bk084816  1.049691\n",
      "25        1.016032  bk084816  1.049691\n",
      "26        1.008016  bk084816  1.049691\n",
      "27        1.016032  bk084816  1.049691\n",
      "28        1.024049  bk084816  1.049691\n",
      "29        1.032065  bk084816  1.049691\n",
      "...            ...       ...       ...\n",
      "40730835  1.400810  bi709829  1.783727\n",
      "40730836  1.320648  bi709829  1.783727\n",
      "40730837  1.400810  bi709829  1.783727\n",
      "40730838  1.400810  bi709829  1.783727\n",
      "40730839  1.400810  bi709829  1.783727\n",
      "40730840  1.400810  bi709829  1.783727\n",
      "40730841  1.400810  bi709829  1.783727\n",
      "40730842  1.400810  bi709829  1.783727\n",
      "40730843  1.068138  bi709829  1.783727\n",
      "40730844  1.136275  bi709829  1.783727\n",
      "40730845  1.400810  bi709829  1.783727\n",
      "40730846  1.160324  bi709829  1.783727\n",
      "40730847  1.320648  bi709829  1.783727\n",
      "40730848  1.240486  bi709829  1.783727\n",
      "40730849  1.240486  bi709829  1.783727\n",
      "40730850  1.240486  bi709829  1.783727\n",
      "40730851  1.320648  bi709829  1.783727\n",
      "40730852  1.240486  bi709829  1.783727\n",
      "40730853  1.320648  bi709829  1.783727\n",
      "40730854  1.801619  bi709829  1.783727\n",
      "40730855  1.440891  bi709829  1.783727\n",
      "40730856  1.400810  bi709829  1.783727\n",
      "40730857  1.240486  bi709829  1.783727\n",
      "40730858  1.561134  bi709829  1.783727\n",
      "40730859  1.432874  bi709829  1.783727\n",
      "40730860  1.400810  bi709829  1.783727\n",
      "40730861  1.448907  bi709829  1.783727\n",
      "40730862  1.448907  bi709829  1.783727\n",
      "40730863  1.320648  bi709829  1.783727\n",
      "40730864  1.120243  bi709829  1.783727\n",
      "\n",
      "[40730865 rows x 3 columns]\n"
     ]
    }
   ],
   "source": [
    "## Load training data again\n",
    "\n",
    "file = \"train_data.csv\"\n",
    "\n",
    "# df_train = pd.read_csv(file, nrows = 40730865/30) # (~ 6 days)\n",
    "# Total number or rows in train_data: 40730865 (~ 6 months)\n",
    "# df_train = pd.read_csv(file)\n",
    "\n",
    "# iter_csv = pd.read_csv(file,chunksize=100000)\n",
    "# df_train = pd.concat([chunk for chunk in iter_csv]) \n",
    "\n",
    "df_train =  pd.read_csv(file, usecols=['custid','invest'])\n",
    "# df_train = DataFrame(df_train,columns=['invest','custid'])\n",
    "days = 182\n",
    "\n",
    "## Add the mean of the invetment (group by customer id) and call it invest_mean\n",
    "group_custid = df_train['invest'].groupby(df_train['custid'])\n",
    "df_custid_mean = DataFrame(group_custid.mean())\n",
    "invest_mean_temp = df_custid_mean['invest'] \n",
    "\n",
    "invest_mean = []\n",
    "for i in xrange(len(invest_mean_temp)):\n",
    "    if invest_mean_temp[i] > 15:\n",
    "        invest_mean.append(15)\n",
    "    else:    \n",
    "        invest_mean.append(invest_mean_temp[i])\n",
    "\n",
    "\n",
    "custid = DataFrame(df_custid_mean.index)\n",
    "del df_custid_mean \n",
    "df_custid = DataFrame({'invest_mean':invest_mean})\n",
    "df_custid['custid'] = custid\n",
    " \n",
    "df_train = pd.merge(df_train,df_custid)\n",
    "df_train = df_train.rename(columns=lambda x: x.replace('invest_mean', 'custid_2')) \n",
    "print df_train"
   ]
  },
  {
   "cell_type": "code",
   "execution_count": 7,
   "metadata": {
    "collapsed": false
   },
   "outputs": [
    {
     "name": "stdout",
     "output_type": "stream",
     "text": [
      "          custid_2\n",
      "4073087   1.133197\n",
      "4073088   1.133197\n",
      "4073089   1.133197\n",
      "4073090   1.133197\n",
      "4073091   1.133197\n",
      "4073092   1.133197\n",
      "4073093   1.133197\n",
      "4073094   1.133197\n",
      "4073095   1.133197\n",
      "4073096   1.133197\n",
      "4073097   1.133197\n",
      "4073098   1.133197\n",
      "4073099   1.133197\n",
      "4073100   1.133197\n",
      "4073101   1.133197\n",
      "4073102   1.133197\n",
      "4073103   1.133197\n",
      "4073104   1.133197\n",
      "4073105   1.133197\n",
      "4073106   1.133197\n",
      "4073107   1.133197\n",
      "4073108   1.133197\n",
      "4073109   1.133197\n",
      "4073110   1.133197\n",
      "4073111   1.133197\n",
      "4073112   1.133197\n",
      "4073113   1.133197\n",
      "4073114   1.133197\n",
      "4073115   1.133197\n",
      "4073116   1.133197\n",
      "...            ...\n",
      "40730835  1.783727\n",
      "40730836  1.783727\n",
      "40730837  1.783727\n",
      "40730838  1.783727\n",
      "40730839  1.783727\n",
      "40730840  1.783727\n",
      "40730841  1.783727\n",
      "40730842  1.783727\n",
      "40730843  1.783727\n",
      "40730844  1.783727\n",
      "40730845  1.783727\n",
      "40730846  1.783727\n",
      "40730847  1.783727\n",
      "40730848  1.783727\n",
      "40730849  1.783727\n",
      "40730850  1.783727\n",
      "40730851  1.783727\n",
      "40730852  1.783727\n",
      "40730853  1.783727\n",
      "40730854  1.783727\n",
      "40730855  1.783727\n",
      "40730856  1.783727\n",
      "40730857  1.783727\n",
      "40730858  1.783727\n",
      "40730859  1.783727\n",
      "40730860  1.783727\n",
      "40730861  1.783727\n",
      "40730862  1.783727\n",
      "40730863  1.783727\n",
      "40730864  1.783727\n",
      "\n",
      "[36657778 rows x 1 columns]\n"
     ]
    }
   ],
   "source": [
    "drop_list = ['invest','custid']\n",
    "X = df_train.drop(drop_list,axis=1).fillna(-999)\n",
    "y = df_train['invest'].values\n",
    " \n",
    "from sklearn.cross_validation import KFold\n",
    "eval_size = 0.10\n",
    "kf = KFold(len(y),round(1./eval_size))\n",
    "train_indices, valid_indices = next(iter(kf))\n",
    "\n",
    "X_train, y_train = X.ix[train_indices], y[train_indices]\n",
    "X_valid, y_valid = X.ix[valid_indices], y[valid_indices]\n",
    "print X_train"
   ]
  },
  {
   "cell_type": "code",
   "execution_count": 8,
   "metadata": {
    "collapsed": false
   },
   "outputs": [
    {
     "name": "stdout",
     "output_type": "stream",
     "text": [
      " The estimated intercept coefficient is -0.19 \n",
      " The number of coefficients used was 1 \n",
      "[ 1.10566049  1.10566049  1.10566049 ...,  1.20499675  1.20499675\n",
      "  1.20499675]\n"
     ]
    }
   ],
   "source": [
    "# Import for Linear Regression\n",
    "import sklearn\n",
    "from sklearn.linear_model import LinearRegression\n",
    "\n",
    "# Create a LinearRegression Object\n",
    "lreg = LinearRegression()\n",
    "\n",
    "# Implement Linear Regression\n",
    "lreg.fit(X_train,y_train)\n",
    "\n",
    "print ' The estimated intercept coefficient is %.2f ' %lreg.intercept_\n",
    "print ' The number of coefficients used was %d ' % len(lreg.coef_)\n",
    "\n",
    "# # Set a DataFrame from the Features\n",
    "# coeff_df = DataFrame(df_train.columns)\n",
    "# coeff_df.columns = ['Features']\n",
    "\n",
    "# # Set a new column lining up the coefficients from the linear regression\n",
    "# coeff_df[\"Coefficient Estimate\"] = pd.Series(lreg.coef_)\n",
    "\n",
    "# # Show\n",
    "# coeff_df\n",
    "\n",
    "# Predictions on training and testing sets\n",
    "pred_test = lreg.predict(X_test) \n",
    "print pred_test"
   ]
  },
  {
   "cell_type": "code",
   "execution_count": 19,
   "metadata": {
    "collapsed": false
   },
   "outputs": [
    {
     "name": "stdout",
     "output_type": "stream",
     "text": [
      "[ 1.10566049  1.10566049  1.10566049 ...,  1.20499675  1.20499675\n",
      "  1.20499675]\n"
     ]
    }
   ],
   "source": [
    "pred_test = lreg.predict(X_test) \n",
    "print pred_test"
   ]
  },
  {
   "cell_type": "code",
   "execution_count": 22,
   "metadata": {
    "collapsed": false
   },
   "outputs": [
    {
     "name": "stdout",
     "output_type": "stream",
     "text": [
      "4606743\n"
     ]
    }
   ],
   "source": [
    "print len(pred_test)\n",
    "df_submission = DataFrame({'prediction':pred_test})\n",
    "submission_3 = df_submission['prediction']\n",
    "submission_3.to_csv('submission_3.csv', index = False)\n",
    " "
   ]
  },
  {
   "cell_type": "code",
   "execution_count": null,
   "metadata": {
    "collapsed": true
   },
   "outputs": [],
   "source": []
  }
 ],
 "metadata": {
  "kernelspec": {
   "display_name": "Python 2",
   "language": "python",
   "name": "python2"
  },
  "language_info": {
   "codemirror_mode": {
    "name": "ipython",
    "version": 2
   },
   "file_extension": ".py",
   "mimetype": "text/x-python",
   "name": "python",
   "nbconvert_exporter": "python",
   "pygments_lexer": "ipython2",
   "version": "2.7.12"
  }
 },
 "nbformat": 4,
 "nbformat_minor": 0
}
