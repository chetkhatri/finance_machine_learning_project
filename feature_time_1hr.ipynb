{
 "cells": [
  {
   "cell_type": "code",
   "execution_count": null,
   "metadata": {
    "collapsed": false
   },
   "outputs": [],
   "source": [
    "import numpy as np\n",
    "import pandas as pd\n",
    "import matplotlib.pyplot as plt\n",
    "import gc\n",
    "path = ''\n",
    "outputhead = 'feat_1hr_'\n",
    "from sklearn.cross_validation import train_test_split\n",
    "\n",
    "## Load data\n",
    "file = path + \"train_data.csv\"\n",
    "df_train = pd.read_csv(file, usecols = ['custid','platform','currency','groupid','timestamp','invest'],nrows=50000)\n",
    "days = 182"
   ]
  },
  {
   "cell_type": "code",
   "execution_count": null,
   "metadata": {
    "collapsed": false
   },
   "outputs": [],
   "source": [
    "## add time of day column\n",
    "mintimestamp = np.min(df_train['timestamp'])\n",
    "df_train['timestamp'] = df_train['timestamp'] - mintimestamp\n",
    "divide = 3600. # 1 hour\n",
    "df_train['time_hr'] = (np.rint(np.remainder(df_train['timestamp'], 3600*24)/(divide)))\n",
    "print df_train.head()"
   ]
  },
  {
   "cell_type": "code",
   "execution_count": null,
   "metadata": {
    "collapsed": false
   },
   "outputs": [],
   "source": [
    "## groupby currency, time of day\n",
    "grouped2 = df_train[df_train['invest']>2.0].groupby(['currency','time_hr'])\n",
    "grouped10 = df_train[df_train['invest']>10.0].groupby(['currency','time_hr'])\n",
    "grouped = df_train.groupby(['currency','time_hr'])\n",
    "bin_hr_currency = pd.DataFrame({'meanInv.curHr':grouped['invest'].mean().round(decimals=2), \n",
    "                                'rInvGT2.curHr':(grouped2['invest'].count()/grouped['invest'].count()).round(decimals=3),\n",
    "                                'rInvGT10.curHr':(grouped10['invest'].count()/grouped['invest'].count()).round(decimals=4),\n",
    "                                'q75Inv.curHr':grouped['invest'].quantile(0.75).round(decimals=2), \n",
    "                                'q95Inv.curHr':grouped['invest'].quantile(0.95).round(decimals=2), \n",
    "                                'q999Inv.curHr':grouped['invest'].quantile(0.999).round(decimals=2)})\n",
    "\n",
    "del grouped2, grouped10, grouped\n",
    "gc.collect()"
   ]
  },
  {
   "cell_type": "code",
   "execution_count": null,
   "metadata": {
    "collapsed": false
   },
   "outputs": [],
   "source": [
    "## groupby platform, time of day\n",
    "grouped2 = df_train[df_train['invest']>2.0].groupby(['platform','time_hr'])\n",
    "grouped10 = df_train[df_train['invest']>10.0].groupby(['platform','time_hr'])\n",
    "grouped = df_train.groupby(['platform','time_hr'])\n",
    "bin_hr_pltf = pd.DataFrame({'meanInv.pltfHr':grouped['invest'].mean().round(decimals=2), \n",
    "                            'rInvGT2.pltfHr':(grouped2['invest'].count()/grouped['invest'].count()).round(decimals=3),\n",
    "                            'rInvGT10.pltfHr':(grouped10['invest'].count()/grouped['invest'].count()).round(decimals=4),\n",
    "                            'q75Inv.pltfHr':grouped['invest'].quantile(0.75).round(decimals=2), \n",
    "                            'q95Inv.pltfHr':grouped['invest'].quantile(0.95).round(decimals=2), \n",
    "                            'q999Inv.pltfHr':grouped['invest'].quantile(0.999).round(decimals=2)})\n",
    "del grouped2, grouped10, grouped\n",
    "gc.collect()"
   ]
  },
  {
   "cell_type": "code",
   "execution_count": null,
   "metadata": {
    "collapsed": false
   },
   "outputs": [],
   "source": [
    "## groupby groupid, time of day\n",
    "grouped2 = df_train[df_train['invest']>2.0].groupby(['groupid', 'time_hr'])\n",
    "grouped10 = df_train[df_train['invest']>10.0].groupby(['groupid','time_hr'])\n",
    "grouped = df_train.groupby(['groupid', 'time_hr'])\n",
    "bin_hr_grpid = pd.DataFrame({'meanInv.grpidHr': grouped['invest'].mean().round(decimals=2), \n",
    "                             'rInvGT2.grpidHr': (grouped2['invest'].count()/grouped['invest'].count()).round(decimals=3),\n",
    "                             'rInvGT10.grpidHr':(grouped10['invest'].count()/grouped['invest'].count()).round(decimals=4),\n",
    "                             'q75Inv.grpidHr':  grouped['invest'].quantile(0.75).round(decimals=2), \n",
    "                             'q95Inv.grpidHr':  grouped['invest'].quantile(0.95).round(decimals=2), \n",
    "                             'q999Inv.grpidHr':  grouped['invest'].quantile(0.999).round(decimals=2)})\n",
    "\n",
    "del grouped2, grouped10, grouped\n",
    "gc.collect()"
   ]
  },
  {
   "cell_type": "code",
   "execution_count": null,
   "metadata": {
    "collapsed": false
   },
   "outputs": [],
   "source": [
    "## Get test data, use it to filter the train data, and merge. \n",
    "file = path + \"test_data.csv\"\n",
    "df_test = pd.read_csv(file, usecols = ['custid','platform','currency','groupid','timestamp'], nrows=100000)\n",
    "\n",
    "## Filter the df_train, and only leave the rows with the custid appeared in the test set\n",
    "cust = np.unique(df_test['custid'])\n",
    "df_train = df_train[df_train['custid'].isin(cust)]\n",
    "\n",
    "gc.collect()"
   ]
  },
  {
   "cell_type": "code",
   "execution_count": null,
   "metadata": {
    "collapsed": false
   },
   "outputs": [],
   "source": [
    "## custid bin can be done with this limited sample\n",
    "\n",
    "## groupby custid\n",
    "grouped2 = df_train[df_train['invest']>2.0].groupby(['custid'])\n",
    "grouped10 = df_train[df_train['invest']>10.0].groupby(['custid'])\n",
    "grouped = df_train.groupby(['custid'])\n",
    "bin_custid = pd.DataFrame({'meanInv.custid':grouped['invest'].mean().round(decimals=2), \n",
    "                           'rInvGT2.custid':(grouped2['invest'].count()/grouped['invest'].count()).round(decimals=3),\n",
    "                           'rInvGT10.custid':(grouped10['invest'].count()/grouped['invest'].count()).round(decimals=4),\n",
    "                           'q75Inv.custid':grouped['invest'].quantile(0.75).round(decimals=2), \n",
    "                           'q95Inv.custid':grouped['invest'].quantile(0.95).round(decimals=2), \n",
    "                           'q999Inv.custid':grouped['invest'].quantile(0.999).round(decimals=2)})\n",
    "del grouped2, grouped10, grouped\n",
    "gc.collect()"
   ]
  },
  {
   "cell_type": "code",
   "execution_count": null,
   "metadata": {
    "collapsed": false
   },
   "outputs": [],
   "source": [
    "# print(df_train.head())\n",
    "# print(df_train.shape)\n",
    "# print(df_train.columns)"
   ]
  },
  {
   "cell_type": "code",
   "execution_count": null,
   "metadata": {
    "collapsed": false
   },
   "outputs": [],
   "source": [
    "df_test['timestamp'] = df_test['timestamp'] - mintimestamp\n",
    "df_test['time_hr'] = (np.rint(np.remainder(df_test['timestamp'], 3600*24)/(divide)))\n",
    "df_test['index'] = np.arange(df_test.shape[0])\n",
    "print np.arange(df_test.shape[0]) \n",
    "\n",
    "df_test = df_test.merge(bin_custid, left_on='custid',how='left',right_index=True)\n",
    "df_test = df_test.merge(bin_hr_currency, left_on=['custid','time_hr'], how='left',right_index=True)\n",
    "df_test = df_test.merge(bin_hr_pltf, left_on=['platform','time_hr'], how='left',right_index=True)\n",
    "df_test = df_test.merge(bin_hr_grpid, left_on=['groupid','time_hr'], how='left',right_index=True)\n",
    "print df_test\n",
    "df_test.set_index('index',inplace=True)\n",
    "print df_test\n",
    "df_test.sort_index(inplace=True)\n",
    "print df_test\n",
    "\n",
    "df_test.drop(['groupid','currency','custid','platform'],axis=1,inplace=True)\n",
    "df_test.to_hdf(path+''+outputhead+'test.h5','test',format='table')\n",
    "print('df_test ouput done!')\n",
    "del df_test\n",
    "gc.collect()"
   ]
  },
  {
   "cell_type": "code",
   "execution_count": null,
   "metadata": {
    "collapsed": false
   },
   "outputs": [],
   "source": [
    "## Output train\n",
    "file = path + \"test_data.csv\"\n",
    "df_test = pd.read_csv(file, usecols = ['custid'])\n",
    "\n",
    "## Load data\n",
    "file = path+\"train_data.csv\"\n",
    "chunksize = 40730866/10\n",
    "cols = ['custid','platform','currency', 'groupid','timestamp','invest']\n",
    "ind = 0\n",
    "nrows = 0\n",
    "for chunk in pd.read_csv(file, usecols = cols, chunksize = chunksize):\n",
    "    chunk['index'] = np.arange(chunk.shape[0]) + nrows # df.shape[0] gives number of row count\n",
    "    nrows = nrows + chunk.shape[0]\n",
    "    chunk.set_index('index',inplace=True)\n",
    "    chunk = chunk[chunk['custid'].isin(cust)]\n",
    "\n",
    "    chunk['timestamp'] = chunk['timestamp'] - mintimestamp\n",
    "    chunk['time_hr'] = (np.rint(np.remainder(chunk['timestamp'], 3600*24)/(divide)))\n",
    "    \n",
    "    chunk = chunk.merge(bin_custid, left_on='custid',how='left',right_index=True)\n",
    "    chunk = chunk.merge(bin_hr_currency, left_on=['custid','time_hr'], how='left',right_index=True)\n",
    "    chunk = chunk.merge(bin_hr_pltf, left_on=['platform','time_hr'], how='left',right_index=True)\n",
    "    chunk = chunk.merge(bin_hr_grpid, left_on=['groupid','time_hr'], how='left',right_index=True)\n",
    "\n",
    "    chunk.drop(['groupid','currency','custid','platform'],axis=1, inplace=True)\n",
    "\n",
    "    cols = chunk.columns.tolist()\n",
    "    ncols = cols[1:]\n",
    "    ncols.append(cols[0])\n",
    "    chunk = chunk[ncols]\n",
    "\n",
    "    chunk_tr, chunk_val = train_test_split(chunk, test_size=0.3, random_state=42)\n",
    "#    print(chunk_tr.shape)\n",
    "#    print(chunk_tr.columns)\n",
    "#    print(chunk_tr.head())\n",
    "    chunk_tr.to_hdf(path+''+outputhead+'train.h5','train', format='table', append=True)\n",
    "    del chunk, chunk_tr\n",
    "    gc.collect()\n",
    "\n",
    "    chunk_val1, chunk_val2 = train_test_split(chunk_val, test_size=0.33, random_state=42)\n",
    "    chunk_val1.to_hdf(path+''+outputhead+'train_val1.h5','val1', format='table', append=True)\n",
    "    chunk_val2.to_hdf(path+''+outputhead+'train_val2.h5','val2', format='table', append=True)\n",
    "    del chunk_val, chunk_val1, chunk_val2\n",
    "    gc.collect()\n",
    "\n",
    "    print('chunk {0} done!'.format(ind+1))\n",
    "    ind = ind+1\n",
    "    \n",
    "print('df_train output done!')\n",
    "print('{0} rows is written in total.'.format(nrows))"
   ]
  }
 ],
 "metadata": {
  "anaconda-cloud": {},
  "kernelspec": {
   "display_name": "Python [Root]",
   "language": "python",
   "name": "Python [Root]"
  },
  "language_info": {
   "codemirror_mode": {
    "name": "ipython",
    "version": 2
   },
   "file_extension": ".py",
   "mimetype": "text/x-python",
   "name": "python",
   "nbconvert_exporter": "python",
   "pygments_lexer": "ipython2",
   "version": "2.7.12"
  }
 },
 "nbformat": 4,
 "nbformat_minor": 0
}
