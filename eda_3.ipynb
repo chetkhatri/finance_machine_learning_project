{
 "cells": [
  {
   "cell_type": "code",
   "execution_count": null,
   "metadata": {
    "collapsed": false
   },
   "outputs": [],
   "source": [
    "import numpy as np\n",
    "import pandas as pd\n",
    "from pandas import Series,DataFrame\n",
    "\n",
    "## Load data\n",
    "file = \"train_data.csv\"\n",
    "df_train = pd.read_csv(file, nrows = 40730865/30) # (~ 6 days)\n",
    "# Total number or rows in train_data: 40730865 (~ 6 months)\n",
    "# df_train = pd.read_csv(file)\n",
    "df_train = DataFrame(df_train,columns=['custid', 'groupid', 'productid','eventid',\\\n",
    "                                       'currency', 'platform','timestamp', 'invest'])\n",
    "days = 6"
   ]
  },
  {
   "cell_type": "code",
   "execution_count": null,
   "metadata": {
    "collapsed": false
   },
   "outputs": [],
   "source": [
    "## Store df_train in HDF5 format\n",
    "# store = pd.HDFStore('store.h5')\n",
    "# %timeit store['df_train_h5'] = df_train  # save it\n",
    "# del df_train\n",
    "# %timeit store['df_train_h5']  # load it\n",
    "# df_train_h5"
   ]
  },
  {
   "cell_type": "code",
   "execution_count": null,
   "metadata": {
    "collapsed": false
   },
   "outputs": [],
   "source": [
    "#( max(df_train['timestamp']) - min(df_train['timestamp']) )/86400\n",
    "df_train['timestamp'] = df_train['timestamp'] - min(df_train['timestamp'])\n",
    "df_train = df_train[df_train.timestamp <= (3600*24)*days]\n",
    "#( max(df_train['timestamp']) - min(df_train['timestamp']) )/86400\n",
    "df_train['timestamp (day of week)'] = np.digitize(df_train['timestamp'],range(0,3600*24*days,3600*24))\n",
    "df_train['timestamp (hour of day)'] = np.digitize(df_train['timestamp'],range(0,3600*24*days,3600))\n",
    "df_train['timestamp (hour of day)'] = df_train['timestamp (hour of day)'].apply(lambda x: x%24)"
   ]
  },
  {
   "cell_type": "code",
   "execution_count": null,
   "metadata": {
    "collapsed": false
   },
   "outputs": [],
   "source": [
    "## Add the mean of the invetment (group by customer id and hour of day) and call it custid_time\n",
    "group_custid_time = df_train['invest'].groupby([df_train['custid'],df_train['timestamp (hour of day)']])\n",
    "df_custid_time_mean = DataFrame(group_custid_time.mean())\n",
    "invest_temp = df_custid_time_mean['invest'] \n",
    "\n",
    "invest_mean = []\n",
    "for i in range(len(invest_temp)):\n",
    "    if invest_temp[i] > 15:\n",
    "        invest_mean.append(15)\n",
    "    else:    \n",
    "        invest_mean.append(invest_temp[i])\n",
    "        \n",
    "df_custid_time_mean.reset_index(inplace=True) \n",
    "df_custid_time_mean = df_custid_time_mean.rename(columns=lambda x: x.replace('invest', 'custid_time')) \n",
    "df_train = pd.merge(df_train,df_custid_time_mean)"
   ]
  },
  {
   "cell_type": "code",
   "execution_count": null,
   "metadata": {
    "collapsed": false
   },
   "outputs": [],
   "source": [
    "## Add the mean of the invetment (group by currency) and call it currency_2\n",
    "group_currency = df_train['invest'].groupby(df_train['currency'])\n",
    "df_currency_mean = DataFrame(group_currency.mean())\n",
    "invest_mean_temp = df_currency_mean['invest'] \n",
    "\n",
    "invest_mean = []\n",
    "for i in xrange(len(invest_mean_temp)):\n",
    "    if invest_mean_temp[i] > 15:\n",
    "        invest_mean.append(15)\n",
    "    else:    \n",
    "        invest_mean.append(invest_mean_temp[i])\n",
    "        \n",
    "currency = DataFrame(df_currency_mean.index)\n",
    "del df_currency_mean \n",
    "df_currency = DataFrame({'invest_mean':invest_mean})\n",
    "df_currency['currency'] = currency\n",
    "df_currency = df_currency[['currency','invest_mean']]\n",
    "\n",
    "df_train = pd.merge(df_train,df_currency)\n",
    "df_train = df_train.rename(columns=lambda x: x.replace('invest_mean', 'currency_2')) "
   ]
  },
  {
   "cell_type": "code",
   "execution_count": null,
   "metadata": {
    "collapsed": false
   },
   "outputs": [],
   "source": [
    "## Add the mean of the invetment (group by platform) and call it platform_2\n",
    "group_platform = df_train['invest'].groupby(df_train['platform'])\n",
    "df_platform_mean = DataFrame(group_platform.mean())\n",
    "invest_mean_temp = df_platform_mean['invest'] \n",
    "\n",
    "invest_mean = []\n",
    "for i in xrange(len(invest_mean_temp)):\n",
    "    if invest_mean_temp[i] > 15:\n",
    "        invest_mean.append(15)\n",
    "    else:    \n",
    "        invest_mean.append(invest_mean_temp[i])\n",
    "        \n",
    "platform = DataFrame(df_platform_mean.index)\n",
    "del df_platform_mean \n",
    "df_platform = DataFrame({'invest_mean':invest_mean})\n",
    "df_platform['platform'] = platform\n",
    "df_platform = df_platform[['platform','invest_mean']]\n",
    "\n",
    "df_train = pd.merge(df_train,df_platform)\n",
    "df_train = df_train.rename(columns=lambda x: x.replace('invest_mean', 'platform_2')) "
   ]
  }
 ],
 "metadata": {
  "anaconda-cloud": {},
  "kernelspec": {
   "display_name": "Python [Root]",
   "language": "python",
   "name": "Python [Root]"
  },
  "language_info": {
   "codemirror_mode": {
    "name": "ipython",
    "version": 2
   },
   "file_extension": ".py",
   "mimetype": "text/x-python",
   "name": "python",
   "nbconvert_exporter": "python",
   "pygments_lexer": "ipython2",
   "version": "2.7.12"
  }
 },
 "nbformat": 4,
 "nbformat_minor": 0
}
