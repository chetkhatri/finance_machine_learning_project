{
 "cells": [
  {
   "cell_type": "code",
   "execution_count": 1,
   "metadata": {
    "collapsed": true
   },
   "outputs": [],
   "source": [
    "import pandas as pd\n",
    "from pandas import Series,DataFrame\n",
    "import numpy as np\n",
    "path = ''\n",
    "import gc\n",
    "#from sklearn.cross_validation import train_test_split \n",
    "from sklearn.metrics import mean_squared_error as rmse\n",
    "from sklearn.cross_validation import KFold\n",
    "import sys\n",
    "from data_load import loadHDF_train\n",
    "from data_load import loadHDF_test\n",
    "from time import time\n",
    "from sys import stdout"
   ]
  },
  {
   "cell_type": "code",
   "execution_count": 2,
   "metadata": {
    "collapsed": false
   },
   "outputs": [
    {
     "data": {
      "text/plain": [
       "410"
      ]
     },
     "execution_count": 2,
     "metadata": {},
     "output_type": "execute_result"
    }
   ],
   "source": [
    "colnames = [u'timestamp', u'time_hr', u'meanInv.custid', u'q75Inv.custid', u'q95Inv.custid',\n",
    "            u'q999Inv.custid', u'rInvGT10.custid', u'rInvGT2.custid',\n",
    "            u'meanInv.curHr', u'q75Inv.curHr', u'q95Inv.curHr', u'q999Inv.curHr',\n",
    "            u'rInvGT10.curHr', u'rInvGT2.curHr', u'meanInv.pltfHr',\n",
    "            u'q75Inv.pltfHr', u'q95Inv.pltfHr', u'q999Inv.pltfHr',\n",
    "            u'rInvGT10.pltfHr', u'rInvGT2.pltfHr', u'meanInv.grpidHr',\n",
    "            u'q75Inv.grpidHr', u'q95Inv.grpidHr', u'q999Inv.grpidHr',\n",
    "            u'rInvGT10.grpidHr', u'rInvGT2.grpidHr']\n",
    "datafilehead = path + 'feat_1hr_'\n",
    "timelimit = 3600.*24*np.array([153,183]) # last 30 days \n",
    "seed = 555#555\n",
    "np.random.seed(seed)\n",
    "np.random.randint(0,1000)"
   ]
  },
  {
   "cell_type": "code",
   "execution_count": 3,
   "metadata": {
    "collapsed": true
   },
   "outputs": [],
   "source": [
    "def preprocess(d, timelimit=[0,999999], missing=0, index = []):\n",
    "    if(len(index) > 0):\n",
    "        index = index[(d['timestamp'] >= timelimit[0]) & (d['timestamp'] < timelimit[1])]\n",
    "        d = d[(d['timestamp'] >= timelimit[0]) & (d['timestamp'] < timelimit[1])]\n",
    "\n",
    "    d.drop('timestamp', inplace=True, axis=1)\n",
    "    d.fillna(missing, inplace=True)\n",
    "    if(len(index) == 0):\n",
    "        return d\n",
    "    else:\n",
    "        return d, index"
   ]
  },
  {
   "cell_type": "code",
   "execution_count": 4,
   "metadata": {
    "collapsed": true
   },
   "outputs": [],
   "source": [
    "dtr, pred, dtr_index = loadHDF_train(datafilehead+'train.h5', key='train', \n",
    "                                     selection = 'index > {0}'.format(35730865), columns = colnames)"
   ]
  },
  {
   "cell_type": "code",
   "execution_count": 5,
   "metadata": {
    "collapsed": false
   },
   "outputs": [],
   "source": [
    "## preprocess\n",
    "dtr, dtr_index = preprocess(dtr, timelimit = timelimit, missing=0, index=dtr_index)\n",
    "pred = preprocess(pred, timelimit, missing=0)"
   ]
  },
  {
   "cell_type": "code",
   "execution_count": 6,
   "metadata": {
    "collapsed": false
   },
   "outputs": [],
   "source": [
    "dte, dte_index = loadHDF_test(datafilehead+'test.h5', key='test', columns = colnames)\n",
    "dte = preprocess(dte, missing=0)\n",
    "num_te = dte.shape[0]"
   ]
  },
  {
   "cell_type": "code",
   "execution_count": 7,
   "metadata": {
    "collapsed": false
   },
   "outputs": [
    {
     "name": "stdout",
     "output_type": "stream",
     "text": [
      "            invest\n",
      "index             \n",
      "36530990  1.055579\n",
      "35917280  1.041684\n",
      "36540585  1.160324\n",
      "35900844  2.202429\n",
      "36231867  1.427530\n",
      "36198698  1.080162\n",
      "35976722  1.456923\n",
      "36201019  2.603239\n",
      "36566821  1.375158\n",
      "35754774  1.084170\n",
      "36119887  1.080162\n",
      "36239744  1.272551\n",
      "36501423  1.166737\n",
      "35877624  1.032065\n",
      "36287535  1.032065\n",
      "36324305  1.083368\n",
      "36080635  1.024049\n",
      "36418941  1.480972\n",
      "36584579  1.176356\n",
      "36652564  1.277895\n",
      "36295470  1.400810\n",
      "35902780  1.080162\n",
      "35790767  1.240486\n",
      "36089832  1.277895\n",
      "35794370  1.240486\n",
      "35796717  9.016194\n",
      "36078640  2.389474\n",
      "36255780  1.120243\n",
      "35992172  2.523077\n",
      "35846049  1.048097\n",
      "...            ...\n",
      "36761129  1.801619\n",
      "37449517  1.040081\n",
      "40002545  1.055579\n",
      "38483347  1.111158\n",
      "36984843  1.400810\n",
      "38424665  1.160324\n",
      "38028229  1.024049\n",
      "37444975  1.008016\n",
      "39868324  1.277895\n",
      "36987139  1.240486\n",
      "38796018  1.444632\n",
      "36935941  1.080162\n",
      "37897685  1.080162\n",
      "38930131  1.027789\n",
      "39667684  1.194526\n",
      "40702663  1.400810\n",
      "37793848  1.833684\n",
      "38661048  1.032065\n",
      "38227780  1.055579\n",
      "39754818  1.240486\n",
      "38892265  1.008016\n",
      "39858390  1.040081\n",
      "37389954  1.561134\n",
      "36768042  1.055579\n",
      "38350517  1.008016\n",
      "39014106  1.555789\n",
      "40169342  1.200405\n",
      "38886860  1.841700\n",
      "39426083  1.041684\n",
      "38876886  2.389474\n",
      "\n",
      "[3499857 rows x 1 columns]\n"
     ]
    }
   ],
   "source": [
    "print pred"
   ]
  },
  {
   "cell_type": "code",
   "execution_count": 8,
   "metadata": {
    "collapsed": false
   },
   "outputs": [],
   "source": [
    "X = dtr \n",
    "X_test = dte\n",
    "y = pred['invest'].values "
   ]
  },
  {
   "cell_type": "code",
   "execution_count": 9,
   "metadata": {
    "collapsed": false
   },
   "outputs": [
    {
     "name": "stdout",
     "output_type": "stream",
     "text": [
      " The estimated intercept coefficient is 0.07 \n",
      " The number of coefficients used was 25 \n"
     ]
    }
   ],
   "source": [
    "# Import for Linear Regression\n",
    "import sklearn\n",
    "from sklearn.linear_model import LinearRegression\n",
    "\n",
    "# Create a LinearRegression Object\n",
    "lreg = LinearRegression()\n",
    "\n",
    "# Implement Linear Regression\n",
    "lreg.fit(X,y)\n",
    "\n",
    "print ' The estimated intercept coefficient is %.2f ' %lreg.intercept_\n",
    "print ' The number of coefficients used was %d ' % len(lreg.coef_)\n",
    "\n",
    "# # Set a DataFrame from the Features\n",
    "# coeff_df = DataFrame(df_train.columns)\n",
    "# coeff_df.columns = ['Features']\n",
    "\n",
    "# # Set a new column lining up the coefficients from the linear regression\n",
    "# coeff_df[\"Coefficient Estimate\"] = pd.Series(lreg.coef_)\n",
    "\n",
    "# # Show\n",
    "# coeff_df "
   ]
  },
  {
   "cell_type": "code",
   "execution_count": 10,
   "metadata": {
    "collapsed": false
   },
   "outputs": [
    {
     "name": "stdout",
     "output_type": "stream",
     "text": [
      "[ 1.11985745  1.11985745  1.11985745 ...,  1.20440287  1.20440287\n",
      "  1.20440287]\n"
     ]
    }
   ],
   "source": [
    "## Predictions on training and testing sets\n",
    "pred_test = lreg.predict(X_test) \n",
    "print pred_test"
   ]
  },
  {
   "cell_type": "code",
   "execution_count": 11,
   "metadata": {
    "collapsed": false
   },
   "outputs": [
    {
     "name": "stdout",
     "output_type": "stream",
     "text": [
      "4606743\n"
     ]
    }
   ],
   "source": [
    "print len(pred_test)\n",
    "df_submission = DataFrame({'prediction':pred_test})\n",
    "submission_4 = df_submission['prediction']\n",
    "submission_4.to_csv('submission_4.csv', index = False)"
   ]
  }
 ],
 "metadata": {
  "kernelspec": {
   "display_name": "Python [Root]",
   "language": "python",
   "name": "Python [Root]"
  },
  "language_info": {
   "codemirror_mode": {
    "name": "ipython",
    "version": 2
   },
   "file_extension": ".py",
   "mimetype": "text/x-python",
   "name": "python",
   "nbconvert_exporter": "python",
   "pygments_lexer": "ipython2",
   "version": "2.7.12"
  }
 },
 "nbformat": 4,
 "nbformat_minor": 0
}
