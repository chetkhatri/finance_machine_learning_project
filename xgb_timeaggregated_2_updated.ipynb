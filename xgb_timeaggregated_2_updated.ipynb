{
 "cells": [
  {
   "cell_type": "code",
   "execution_count": 1,
   "metadata": {
    "collapsed": true
   },
   "outputs": [],
   "source": [
    "import pandas as pd\n",
    "import numpy as np\n",
    "path = ''\n",
    "import gc\n",
    "#import xgboost as xgb\n",
    "#from sklearn.cross_validation import train_test_split \n",
    "from sklearn.metrics import mean_squared_error as rmse\n",
    "from sklearn.cross_validation import KFold\n",
    "import sys\n",
    "#sys.path.append(path+'/src/python/')\n",
    "from data_load import loadHDF_train\n",
    "from data_load import loadHDF_test\n",
    "from time import time\n",
    "from sys import stdout\n",
    "from copy import deepcopy\n",
    "\n",
    "seed = 3555\n",
    "np.random.seed(seed)\n",
    "\n",
    "kfold=5\n",
    "params = {\"seed\": np.random.randint(0,1000),\n",
    "          \"eta\": 0.1,  \n",
    "          \"objective\":\"reg:linear\", \n",
    "          \"max_depth\":3, \"subsample\":0.3, \"colsample_bylevel\": 0.5, \"colsample_bytree\": 0.5, \n",
    "          \"eval_metric\": \"rmse\", \n",
    "          \"min_child_weight\": 1000, 'tree_method':'exact',\n",
    "          \"booster\":'gbtree', 'rate_drop': 0.5, 'silent':1}\n",
    "early_stop = 50\n",
    "num_round = 200\n",
    "clip = [1.,50.]\n",
    "unit = 3600.*24."
   ]
  },
  {
   "cell_type": "code",
   "execution_count": 2,
   "metadata": {
    "collapsed": false
   },
   "outputs": [
    {
     "name": "stdout",
     "output_type": "stream",
     "text": [
      "{'eval_metric': 'rmse', 'colsample_bylevel': 0.5, 'rate_drop': 0.5, 'seed': 713, 'tree_method': 'exact', 'booster': 'gbtree', 'colsample_bytree': 0.5, 'silent': 1, 'min_child_weight': 1000, 'subsample': 0.3, 'eta': 0.1, 'objective': 'reg:linear', 'max_depth': 3}\n"
     ]
    },
    {
     "data": {
      "text/plain": [
       "713"
      ]
     },
     "execution_count": 2,
     "metadata": {},
     "output_type": "execute_result"
    }
   ],
   "source": [
    "outputfilehead = 'xgb_dM1dVal24-1hrAgg.CV5.2'\n",
    "finalsubmitfile = 'results/'+'0905-1_'+outputfilehead+'.csv'\n",
    "datafilehead = path+'feat_dM1dVal24-1hr'\n",
    "\n",
    "print(params)\n",
    "\n",
    "colnames = [u'timestamp', u'meanInv.custid', u'q75Inv.custid', u'q95Inv.custid',\n",
    "            u'q999Inv.custid', u'rInvGT10.custid', u'rInvGT2.custid',\n",
    "            u'meanInv.custidHr', u'q75Inv.custidHr', u'q95Inv.custidHr',\n",
    "            u'q999Inv.custidHr', u'rInvGT10.custidHr', u'rInvGT2.custidHr',\n",
    "            u'meanInv.grpidHr', u'q75Inv.grpidHr', u'q95Inv.grpidHr', \n",
    "            u'q999Inv.grpidHr', u'rInvGT10.grpidHr', u'rInvGT2.grpidHr']\n",
    "#didn't use\n",
    "month=6\n",
    "timelimit = 3600.*24* np.array([(month-1),month])*30 \n",
    "np.random.seed(seed)\n",
    "np.random.randint(0,1000)"
   ]
  },
  {
   "cell_type": "code",
   "execution_count": 3,
   "metadata": {
    "collapsed": true
   },
   "outputs": [],
   "source": [
    "def preprocess(d, timelimit=[0,999999999], missing=0, index = []):\n",
    "#     if(len(index) > 0):\n",
    "#         index = index[(d['timestamp'] >= timelimit[0]) & (d['timestamp'] < timelimit[1])]\n",
    "\n",
    "#         dcp = deepcopy(d[(d['timestamp'] >= timelimit[0]) & (d['timestamp'] < timelimit[1])])\n",
    "#     del d\n",
    "#     gc.collect()\n",
    "    d.drop('timestamp', inplace=True, axis=1)\n",
    "    d.fillna(missing, inplace=True)\n",
    "    if(len(index) == 0):\n",
    "        return d\n",
    "    else:\n",
    "        return d, index"
   ]
  },
  {
   "cell_type": "code",
   "execution_count": 4,
   "metadata": {
    "collapsed": true
   },
   "outputs": [],
   "source": [
    "## redo the training for train2, test2\n",
    "dtr2, pred2, dtr2_index = loadHDF_train(datafilehead+'_train.h5',key='train2',columns = colnames)"
   ]
  },
  {
   "cell_type": "code",
   "execution_count": 6,
   "metadata": {
    "collapsed": false
   },
   "outputs": [
    {
     "name": "stdout",
     "output_type": "stream",
     "text": [
      "import time limit (day): 152.000021759, 181.999723495\n"
     ]
    }
   ],
   "source": [
    "print('import time limit (day): {0}, {1}'.format(dtr2['timestamp'].min()/unit, dtr2['timestamp'].max()/unit))"
   ]
  },
  {
   "cell_type": "code",
   "execution_count": 7,
   "metadata": {
    "collapsed": true
   },
   "outputs": [],
   "source": [
    "## preprocess\n",
    "dtr2, dtr2_index = preprocess(dtr2, timelimit = timelimit, missing=0, index=dtr2_index)\n",
    "pred2 = preprocess(pred2, timelimit = timelimit, missing=0)"
   ]
  },
  {
   "cell_type": "code",
   "execution_count": 8,
   "metadata": {
    "collapsed": true
   },
   "outputs": [],
   "source": [
    "dte2, dte2_index = loadHDF_test(datafilehead+'_test.h5', key='test2', columns = colnames)\n",
    "dte2 = preprocess(dte2, missing=0)\n",
    "num_te2 = dte2.shape[0]\n",
    "# dtest2 = xgb.DMatrix(dte2, missing=0)\n",
    "# fmap = dte2.columns\n",
    "# del dte2\n",
    "# gc.collect()\n",
    "# to be continued"
   ]
  },
  {
   "cell_type": "code",
   "execution_count": null,
   "metadata": {
    "collapsed": true
   },
   "outputs": [],
   "source": []
  }
 ],
 "metadata": {
  "anaconda-cloud": {},
  "kernelspec": {
   "display_name": "Python [Root]",
   "language": "python",
   "name": "Python [Root]"
  },
  "language_info": {
   "codemirror_mode": {
    "name": "ipython",
    "version": 2
   },
   "file_extension": ".py",
   "mimetype": "text/x-python",
   "name": "python",
   "nbconvert_exporter": "python",
   "pygments_lexer": "ipython2",
   "version": "2.7.12"
  }
 },
 "nbformat": 4,
 "nbformat_minor": 0
}
