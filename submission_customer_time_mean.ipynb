{
 "cells": [
  {
   "cell_type": "code",
   "execution_count": null,
   "metadata": {
    "collapsed": true
   },
   "outputs": [],
   "source": [
    "import numpy as np\n",
    "import pandas as pd\n",
    "from pandas import Series,DataFrame\n",
    "\n",
    "## Load data\n",
    "file = \"train_data.csv\"\n",
    "# df_train = pd.read_csv(file, nrows = 40730865/30) # (~ 6 days)\n",
    "# Total number or rows in train_data: 40730865 (~ 6 months)\n",
    "df_train = pd.read_csv(file)\n",
    "df_train = DataFrame(df_train,columns=['custid', 'groupid', 'productid','eventid',\\\n",
    "                                       'currency', 'platform','timestamp', 'invest'])\n",
    "days = 182"
   ]
  },
  {
   "cell_type": "code",
   "execution_count": null,
   "metadata": {
    "collapsed": true
   },
   "outputs": [],
   "source": [
    "#( max(df_train['timestamp']) - min(df_train['timestamp']) )/86400\n",
    "df_train['timestamp'] = df_train['timestamp'] - min(df_train['timestamp'])\n",
    "df_train = df_train[df_train.timestamp <= (3600*24)*days]\n",
    "#( max(df_train['timestamp']) - min(df_train['timestamp']) )/86400\n",
    "df_train['timestamp (day of week)'] = np.digitize(df_train['timestamp'],range(0,3600*24*days,3600*24))\n",
    "df_train['timestamp (day of week)'] = df_train['timestamp (day of week)'].apply(lambda x: x%7)\n",
    "df_train['timestamp (hour of day)'] = np.digitize(df_train['timestamp'],range(0,3600*24*days,3600))\n",
    "df_train['timestamp (hour of day)'] = df_train['timestamp (hour of day)'].apply(lambda x: x%24)"
   ]
  },
  {
   "cell_type": "code",
   "execution_count": null,
   "metadata": {
    "collapsed": true
   },
   "outputs": [],
   "source": [
    "group_custid_time = df_train['invest'].groupby([df_train['custid'],df_train['timestamp (hour of day)']])\n",
    "df_custid_time_mean = DataFrame(group_custid_time.mean())\n",
    "invest_temp = df_custid_time_mean['invest'] \n",
    "\n",
    "invest_mean = []\n",
    "for i in xrange(len(invest_temp)):\n",
    "    if invest_temp[i] > 15:\n",
    "        invest_mean.append(15)\n",
    "    else:    \n",
    "        invest_mean.append(invest_temp[i])\n",
    "        \n",
    "df_custid_time_mean.reset_index(inplace=True) "
   ]
  },
  {
   "cell_type": "code",
   "execution_count": null,
   "metadata": {
    "collapsed": true
   },
   "outputs": [],
   "source": [
    "file = \"test_data.csv\"\n",
    "df_test = pd.read_csv(file) "
   ]
  },
  {
   "cell_type": "code",
   "execution_count": null,
   "metadata": {
    "collapsed": true
   },
   "outputs": [],
   "source": [
    "#( max(df_train['timestamp']) - min(df_train['timestamp']) )/86400\n",
    "df_test['timestamp'] = df_test['timestamp'] - min(df_test['timestamp'])\n",
    "df_test = df_test[df_test.timestamp <= (3600*24)*days]\n",
    "#( max(df_train['timestamp']) - min(df_train['timestamp']) )/86400\n",
    "df_test['timestamp (day of week)'] = np.digitize(df_test['timestamp'],range(0,3600*24*days,3600*24))\n",
    "df_test['timestamp (day of week)'] = df_test['timestamp (day of week)'].apply(lambda x: x%7)\n",
    "df_test['timestamp (hour of day)'] = np.digitize(df_test['timestamp'],range(0,3600*24*days,3600))\n",
    "df_test['timestamp (hour of day)'] = df_test['timestamp (hour of day)'].apply(lambda x: x%24)"
   ]
  },
  {
   "cell_type": "code",
   "execution_count": null,
   "metadata": {
    "collapsed": false
   },
   "outputs": [],
   "source": [
    "df_final = pd.merge(df_test,df_custid_time_mean,on=['custid','timestamp (hour of day)'],how='left')\n",
    "df_final = df_final.fillna(0.0)\n",
    "\n",
    "#df_final = df_final.fillna(df_final['invest'].mean())\n",
    "\n",
    "# group_final = df_final['invest'].groupby(df_final['custid'])\n",
    "# df_= DataFrame(group_final.mean())\n",
    "# invest_temp = df_['invest'] \n",
    "\n",
    "# invest_mean = []\n",
    "# for i in range(len(invest_temp)):\n",
    "#     if invest_temp[i] > 15:\n",
    "#         invest_mean.append(15)\n",
    "#     else:    \n",
    "#         invest_mean.append(invest_temp[i])\n",
    "\n",
    "# custid = DataFrame(df_.index)\n",
    "# df_2 = DataFrame({'invest_mean':invest_mean})\n",
    "# df_2['custid'] = custid\n",
    "# df_2 = df_2[['custid','invest_mean']]\n",
    "# df_final = pd.merge(df_test,df_2)\n",
    "# df_final['invest'] = df_final['invest'] + df_final['invest_mean']"
   ]
  },
  {
   "cell_type": "code",
   "execution_count": null,
   "metadata": {
    "collapsed": false
   },
   "outputs": [],
   "source": [
    "submission_2 = df_final['invest']\n",
    "submission_2.to_csv('submission_2.csv', index = False)"
   ]
  }
 ],
 "metadata": {
  "anaconda-cloud": {},
  "kernelspec": {
   "display_name": "Python [Root]",
   "language": "python",
   "name": "Python [Root]"
  },
  "language_info": {
   "codemirror_mode": {
    "name": "ipython",
    "version": 2
   },
   "file_extension": ".py",
   "mimetype": "text/x-python",
   "name": "python",
   "nbconvert_exporter": "python",
   "pygments_lexer": "ipython2",
   "version": "2.7.12"
  }
 },
 "nbformat": 4,
 "nbformat_minor": 0
}
