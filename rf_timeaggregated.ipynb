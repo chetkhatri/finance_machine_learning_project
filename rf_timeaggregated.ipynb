{
 "cells": [
  {
   "cell_type": "code",
   "execution_count": 1,
   "metadata": {
    "collapsed": false
   },
   "outputs": [
    {
     "name": "stdout",
     "output_type": "stream",
     "text": [
      "20\n"
     ]
    },
    {
     "data": {
      "text/plain": [
       "713"
      ]
     },
     "execution_count": 1,
     "metadata": {},
     "output_type": "execute_result"
    }
   ],
   "source": [
    "import pandas as pd\n",
    "import numpy as np\n",
    "path = ''\n",
    "import gc\n",
    "from sklearn.ensemble import RandomForestRegressor \n",
    "#from sklearn.cross_validation import train_test_split \n",
    "from sklearn.metrics import mean_squared_error as rmse\n",
    "from sklearn.cross_validation import KFold\n",
    "import sys\n",
    "# sys.path.append(path+'/src/python/')\n",
    "from data_load import loadHDF_train\n",
    "from data_load import loadHDF_test\n",
    "from time import time\n",
    "from sys import stdout\n",
    "from copy import deepcopy\n",
    "\n",
    "seed = 3555\n",
    "np.random.seed(seed)\n",
    "\n",
    "kfold = 5\n",
    "\n",
    "num_round = 20\n",
    "clip = [1.,50.]\n",
    "unit = 3600.*24.\n",
    "\n",
    "outputfilehead = 'rf_1hrAgg.v3'\n",
    "finalsubmitfile = '0924-3_'+outputfilehead+'.csv'\n",
    "datafilehead = path+'feat_1hr.v3.'\n",
    "\n",
    "print(num_round)\n",
    "\n",
    "# colnames = [u'meanInv.custid',u'q75Inv.custid',u'rInvGT10.custid']\n",
    " \n",
    "colnames = [u'meanInv.custid', u'q25Inv.custid', u'q50Inv.custid', u'q75Inv.custid',\n",
    "            u'q95Inv.custid', u'q999Inv.custid', u'rInvGT1.custid', u'rInvGT10.custid',\n",
    "            u'rInvGT2.custid']\n",
    "#             u'cnt.eventid', u'q25Inv.eventid', u'q50Inv.eventid', u'q75Inv.eventid',\n",
    "#             u'q95Inv.eventid', u'rInvGT1.eventid', u'rInvGT10.eventid',\n",
    "#             u'rInvGT2.eventid',\n",
    "#             u'meanInv.curHr', u'q75Inv.curHr', u'q95Inv.curHr',\n",
    "#             u'q999Inv.curHr', u'rInvGT10.curHr', u'rInvGT2.curHr',\n",
    "#             u'meanInv.pltfHr', u'q75Inv.pltfHr', u'q95Inv.pltfHr',\n",
    "#             u'q999Inv.pltfHr', u'rInvGT10.pltfHr', u'rInvGT2.pltfHr',\n",
    "#             u'meanInv.grpidHr', u'q75Inv.grpidHr', u'q95Inv.grpidHr',\n",
    "#             u'q999Inv.grpidHr', u'rInvGT10.grpidHr', u'rInvGT2.grpidHr']\n",
    "#didn't use\n",
    "month=6\n",
    "timelimit = 3600.*24* np.array([(month-1),month])*30 \n",
    "np.random.seed(seed)\n",
    "np.random.randint(0,1000)"
   ]
  },
  {
   "cell_type": "code",
   "execution_count": 2,
   "metadata": {
    "collapsed": true
   },
   "outputs": [],
   "source": [
    "def preprocess(d, timelimit=[0,999999999], missing=0, index = []):\n",
    "#    if(len(index) > 0):\n",
    "#        index = index[(d['timestamp'] >= timelimit[0]) & (d['timestamp'] < timelimit[1])]\n",
    "\n",
    "#    dcp = deepcopy(d[(d['timestamp'] >= timelimit[0]) & (d['timestamp'] < timelimit[1])])\n",
    "#    del d\n",
    "#    gc.collect()\n",
    "#    d.drop('timestamp', inplace=True, axis=1)\n",
    "    d.fillna(missing, inplace=True)\n",
    "    if(len(index) == 0):\n",
    "        return d\n",
    "    else:\n",
    "        return d, index"
   ]
  },
  {
   "cell_type": "code",
   "execution_count": 3,
   "metadata": {
    "collapsed": true
   },
   "outputs": [],
   "source": [
    "## redo the training for train2, test2\n",
    "dtr2, pred2, dtr2_index = loadHDF_train(datafilehead+'train.h5', key='train', \n",
    "                                     columns = colnames)"
   ]
  },
  {
   "cell_type": "code",
   "execution_count": 4,
   "metadata": {
    "collapsed": true
   },
   "outputs": [],
   "source": [
    "## preprocess\n",
    "dtr2, dtr2_index = preprocess(dtr2, missing=0, index=dtr2_index)\n",
    "pred2 = preprocess(pred2, missing=0)"
   ]
  },
  {
   "cell_type": "code",
   "execution_count": 5,
   "metadata": {
    "collapsed": true
   },
   "outputs": [],
   "source": [
    "dte2, dte2_index = loadHDF_test(datafilehead+'test.h5', key='test', columns = colnames)\n",
    "dte2 = preprocess(dte2, missing=0)\n",
    "num_te2 = dte2.shape[0]\n",
    "fmap = dte2.columns"
   ]
  },
  {
   "cell_type": "code",
   "execution_count": 6,
   "metadata": {
    "collapsed": false
   },
   "outputs": [
    {
     "name": "stdout",
     "output_type": "stream",
     "text": [
      "fold:0, train=0.847, val=1.255, val1=0.000, val2=0.000,    proc_time= 4144\n",
      "fold:1, train=0.871, val=1.066, val1=0.000, val2=0.000,    proc_time= 3846\n",
      "fold:2, train=0.946, val=0.720, val1=0.000, val2=0.000,    proc_time= 3883\n",
      "fold:3, train=0.889, val=1.014, val1=0.000, val2=0.000,    proc_time= 3880\n",
      "fold:4, train=0.805, val=1.639, val1=0.000, val2=0.000,    proc_time= 3852\n"
     ]
    }
   ],
   "source": [
    "kf = KFold(pred2.shape[0], n_folds=kfold, random_state=np.random.randint(0,1000))\n",
    "ptest = pd.DataFrame({'invest': np.zeros(num_te2)},index=dte2_index)\n",
    "score_list = []\n",
    "sc_val = []\n",
    "val_result = pd.DataFrame()\n",
    "featImp = pd.DataFrame({\"gain\": np.zeros(len(fmap))}, index = fmap)\n",
    "featImp.sort_index(inplace=True)\n",
    "for k, (tr_index, v_index) in enumerate(kf):\n",
    "    train_index = dtr2_index[tr_index]\n",
    "    val_index = dtr2_index[v_index]\n",
    "\n",
    "    m_start = time()\n",
    "    X_train, X_val = dtr2.loc[train_index], dtr2.loc[val_index]\n",
    "    y_train, y_val = pred2.loc[train_index].values[:,0], pred2.loc[val_index].values[:,0]\n",
    "    X_valIndex = X_val.index\n",
    "\n",
    "    model = RandomForestRegressor(n_estimators = 800,\\\n",
    "                                  max_depth = 15,\\\n",
    "                                  min_samples_split = 15,\\\n",
    "                                  min_samples_leaf = 10,\\\n",
    "                                  max_features='sqrt')\n",
    "    model.fit(X_train, y_train)\n",
    "    \n",
    "    pred_train = model.predict(X_train)\n",
    "    pred_val = model.predict(X_val)\n",
    "    pred_test = model.predict(dte2)\n",
    "\n",
    "    pred_train = np.clip(pred_train, clip[0], clip[1])\n",
    "    pred_val = np.clip(pred_val, clip[0], clip[1])\n",
    "    pred_test = np.clip(pred_test, clip[0], clip[1])\n",
    "    \n",
    "    m_end = time()\n",
    "\n",
    "    featImp0 = pd.DataFrame({\"gain\": model.feature_importances_},index=fmap)\n",
    "    featImp['gain'] = featImp0['gain']/kfold + featImp['gain']\n",
    "                            \n",
    "    score_train = rmse(y_train, pred_train)\n",
    "    score_val = rmse(y_val, pred_val)\n",
    "    dd = pd.DataFrame({'pred':pred_val,'invest':y_val, \n",
    "                       'fold':(np.zeros(y_val.shape[0])+k)}, \n",
    "                      index=X_valIndex)\n",
    "\n",
    "    ptest = pd.concat([ptest, pd.DataFrame({k:1./pred_test},index=dte2_index)],axis=1) \n",
    "    \n",
    "    val_result = pd.concat([val_result, dd])\n",
    "    score_list.append({'fold':k,'score_valid': score_val, \n",
    "                       'score_train': score_train, 'time':m_end-m_start})\n",
    "    sc_val.append(score_val)\n",
    "\n",
    "    print \"fold:{0}, train={1:0.3f}, val={2:0.3f}, val1={3:0.3f}, val2={4:0.3f},\\\n",
    "    proc_time={5:5.0f}\".format(k,score_train, score_val,0, 0, m_end-m_start)\n",
    "    stdout.flush()\n",
    "    del y_train, y_val, X_train, X_val, pred_train, pred_val, pred_test, model\n",
    "    gc.collect()"
   ]
  },
  {
   "cell_type": "code",
   "execution_count": 7,
   "metadata": {
    "collapsed": false
   },
   "outputs": [
    {
     "name": "stdout",
     "output_type": "stream",
     "text": [
      "num_round: 20\n",
      "## Summary: score_valid mean = 1.13877 pm 0.33906 with total process time:   327\n",
      "## feature importance\n",
      "                     gain\n",
      "meanInv.custid   0.264758\n",
      "rInvGT10.custid  0.194824\n",
      "q75Inv.custid    0.174186\n",
      "q95Inv.custid    0.108469\n",
      "q50Inv.custid    0.075384\n",
      "rInvGT1.custid   0.068323\n",
      "q25Inv.custid    0.051600\n",
      "rInvGT2.custid   0.043287\n",
      "q999Inv.custid   0.019169\n"
     ]
    },
    {
     "data": {
      "text/plain": [
       "131"
      ]
     },
     "execution_count": 7,
     "metadata": {},
     "output_type": "execute_result"
    }
   ],
   "source": [
    "columns = ptest.columns[1:]\n",
    "ptest['invest'] = kfold/(ptest[columns].sum(axis=1))    \n",
    "ptest = ptest['invest']\n",
    "\n",
    "## save validate to file\n",
    "ptest.to_hdf(path+outputfilehead+'.te.h5','test', format='table')\n",
    "val_result.to_hdf(path+outputfilehead+'.tr.h5','model',format='table')\n",
    "\n",
    "score_list = pd.DataFrame(score_list)\n",
    "    \n",
    "totalTime = score_list['time'].sum() / 60.\n",
    "meanLCV = score_list['score_valid'].mean()\n",
    "stdLCV = score_list['score_valid'].std()\n",
    "\n",
    "print('num_round: {0}'.format(num_round))\n",
    "print('## Summary: score_valid mean = {0:0.5f} pm {1:0.5f} with total process time: {2:5.0f}'.\\\n",
    "      format(meanLCV, stdLCV, totalTime))\n",
    "stdout.flush()\n",
    "\n",
    "## write out submission file\n",
    "ptest.to_csv(path+finalsubmitfile,header=False,index=False)\n",
    "\n",
    "print('## feature importance')\n",
    "featImp.sort_values(by=['gain'],axis=0, ascending=False, inplace=True)\n",
    "print(featImp.head(10))\n",
    "featImp.to_csv(path+outputfilehead+'.rfImp.3.csv')\n",
    "\n",
    "del dtr2, dtr2_index, pred2, dte2_index\n",
    "gc.collect()"
   ]
  },
  {
   "cell_type": "code",
   "execution_count": null,
   "metadata": {
    "collapsed": true
   },
   "outputs": [],
   "source": []
  }
 ],
 "metadata": {
  "anaconda-cloud": {},
  "kernelspec": {
   "display_name": "Python [Root]",
   "language": "python",
   "name": "Python [Root]"
  },
  "language_info": {
   "codemirror_mode": {
    "name": "ipython",
    "version": 2
   },
   "file_extension": ".py",
   "mimetype": "text/x-python",
   "name": "python",
   "nbconvert_exporter": "python",
   "pygments_lexer": "ipython2",
   "version": "2.7.12"
  }
 },
 "nbformat": 4,
 "nbformat_minor": 0
}
