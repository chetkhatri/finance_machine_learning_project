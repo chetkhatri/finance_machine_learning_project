{
 "cells": [
  {
   "cell_type": "code",
   "execution_count": 1,
   "metadata": {
    "collapsed": false
   },
   "outputs": [],
   "source": [
    "import pandas as pd\n",
    "import numpy as np\n",
    "path = ''\n",
    "import gc\n",
    "import xgboost as xgb\n",
    "#from sklearn.cross_validation import train_test_split \n",
    "from sklearn.metrics import mean_squared_error as rmse\n",
    "from sklearn.cross_validation import KFold\n",
    "import sys\n",
    "#sys.path.append(path+'/src/python/')\n",
    "from data_load import loadHDF_train\n",
    "from data_load import loadHDF_test\n",
    "from time import time\n",
    "from sys import stdout\n",
    "\n",
    "from sklearn.ensemble import RandomForestRegressor\n",
    "from sklearn.cross_validation import train_test_split\n",
    "from sklearn import metrics\n",
    "\n",
    "outputfilehead = 'random_forests_1hrAgg'\n",
    "finalsubmitfile = '0912_'+outputfilehead+'.csv'\n",
    "\n",
    "colnames = [u'timestamp', u'time_hr', u'meanInv.custid', u'q75Inv.custid', u'q95Inv.custid',\n",
    "            u'q999Inv.custid', u'rInvGT10.custid', u'rInvGT2.custid',\n",
    "            u'meanInv.curHr', u'q75Inv.curHr', u'q95Inv.curHr', u'q999Inv.curHr',\n",
    "            u'rInvGT10.curHr', u'rInvGT2.curHr', u'meanInv.pltfHr',\n",
    "            u'q75Inv.pltfHr', u'q95Inv.pltfHr', u'q999Inv.pltfHr',\n",
    "            u'rInvGT10.pltfHr', u'rInvGT2.pltfHr', u'meanInv.grpidHr',\n",
    "            u'q75Inv.grpidHr', u'q95Inv.grpidHr', u'q999Inv.grpidHr',\n",
    "            u'rInvGT10.grpidHr', u'rInvGT2.grpidHr']\n",
    "datafilehead = path + 'feat_1hr_'\n",
    "timelimit = 3600.*24*np.array([153,183]) # last 30 days \n",
    "\n",
    "def preprocess(d, timelimit=[0,999999], missing=0, index = []):\n",
    "    if(len(index) > 0):\n",
    "        index = index[(d['timestamp'] >= timelimit[0]) & (d['timestamp'] < timelimit[1])]\n",
    "        d = d[(d['timestamp'] >= timelimit[0]) & (d['timestamp'] < timelimit[1])]\n",
    "\n",
    "    d.drop('timestamp', inplace=True, axis=1)\n",
    "    d.fillna(missing, inplace=True)\n",
    "    if(len(index) == 0):\n",
    "        return d\n",
    "    else:\n",
    "        return d, index\n",
    "\n",
    "dtr, pred, dtr_index = loadHDF_train(datafilehead+'train.h5', key='train', \n",
    "                                     selection = 'index > {0}'.format(35730865),\\\n",
    "                                     columns = colnames)\n",
    "\n",
    "## preprocess\n",
    "dtr, dtr_index = preprocess(dtr, timelimit = timelimit, missing=0, index=dtr_index)\n",
    "pred = preprocess(pred, timelimit, missing=0)\n",
    "\n",
    "dte, dte_index = loadHDF_test(datafilehead+'test.h5', key='test', columns = colnames)\n",
    "dte = preprocess(dte, missing=0)\n",
    "num_te = dte.shape[0]\n",
    "\n",
    "X_train = dtr\n",
    "y_train = pred\n",
    "y_train = np.ravel(y_train)\n",
    "X_test = dte\n",
    "\n",
    "# Random forests\n",
    "forest_model = RandomForestRegressor(n_estimators=300,\\\n",
    "                                     max_depth = 5,\\\n",
    "                                     min_samples_split=2,\\\n",
    "                                     min_samples_leaf=1,\\\n",
    "                                     max_features='log2')\n",
    "forest_model.fit(X_train, y_train)\n",
    "y_pred_forest = forest_model.predict(X_test)"
   ]
  },
  {
   "cell_type": "code",
   "execution_count": 2,
   "metadata": {
    "collapsed": false
   },
   "outputs": [
    {
     "name": "stdout",
     "output_type": "stream",
     "text": [
      "4606743\n",
      "[ 1.13228283  1.13228283  1.13228283 ...,  1.19612139  1.19612139\n",
      "  1.19612139]\n"
     ]
    }
   ],
   "source": [
    "print len(y_pred_forest)\n",
    "print y_pred_forest\n",
    "np.savetxt(path+finalsubmitfile, y_pred_forest, fmt='%.14e')\n",
    "# y_pred_forest.to_csv(path+finalsubmitfile,header=False,index=False)"
   ]
  },
  {
   "cell_type": "code",
   "execution_count": null,
   "metadata": {
    "collapsed": true
   },
   "outputs": [],
   "source": []
  }
 ],
 "metadata": {
  "anaconda-cloud": {},
  "kernelspec": {
   "display_name": "Python [Root]",
   "language": "python",
   "name": "Python [Root]"
  },
  "language_info": {
   "codemirror_mode": {
    "name": "ipython",
    "version": 2
   },
   "file_extension": ".py",
   "mimetype": "text/x-python",
   "name": "python",
   "nbconvert_exporter": "python",
   "pygments_lexer": "ipython2",
   "version": "2.7.12"
  }
 },
 "nbformat": 4,
 "nbformat_minor": 0
}
