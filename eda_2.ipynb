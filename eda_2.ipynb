{
 "cells": [
  {
   "cell_type": "code",
   "execution_count": 1,
   "metadata": {
    "collapsed": true
   },
   "outputs": [],
   "source": [
    "import numpy as np\n",
    "import pandas as pd\n",
    "from pandas import Series,DataFrame\n",
    " \n",
    "file = \"train_data.csv\"\n",
    "df_train = pd.read_csv(file, nrows = 40730865/30)\n",
    "# Total number or rows in train_data: 40730865\n",
    "# df_train = pd.read_csv(file)"
   ]
  },
  {
   "cell_type": "code",
   "execution_count": 2,
   "metadata": {
    "collapsed": false
   },
   "outputs": [
    {
     "data": {
      "text/html": [
       "<div>\n",
       "<table border=\"1\" class=\"dataframe\">\n",
       "  <thead>\n",
       "    <tr style=\"text-align: right;\">\n",
       "      <th></th>\n",
       "      <th>custid</th>\n",
       "      <th>productid</th>\n",
       "      <th>eventid</th>\n",
       "      <th>currency</th>\n",
       "      <th>platform</th>\n",
       "      <th>timestamp</th>\n",
       "      <th>invest</th>\n",
       "    </tr>\n",
       "  </thead>\n",
       "  <tbody>\n",
       "    <tr>\n",
       "      <th>0</th>\n",
       "      <td>bk084816</td>\n",
       "      <td>bj851884</td>\n",
       "      <td>9015</td>\n",
       "      <td>8f46</td>\n",
       "      <td>e146</td>\n",
       "      <td>1.451606e+09</td>\n",
       "      <td>1.008016</td>\n",
       "    </tr>\n",
       "    <tr>\n",
       "      <th>1</th>\n",
       "      <td>bj341378</td>\n",
       "      <td>bj851884</td>\n",
       "      <td>9015</td>\n",
       "      <td>8f46</td>\n",
       "      <td>e146</td>\n",
       "      <td>1.451606e+09</td>\n",
       "      <td>1.016032</td>\n",
       "    </tr>\n",
       "    <tr>\n",
       "      <th>2</th>\n",
       "      <td>bj350369</td>\n",
       "      <td>bj851884</td>\n",
       "      <td>9015</td>\n",
       "      <td>0ef8</td>\n",
       "      <td>b2a6</td>\n",
       "      <td>1.451606e+09</td>\n",
       "      <td>1.555789</td>\n",
       "    </tr>\n",
       "    <tr>\n",
       "      <th>3</th>\n",
       "      <td>bh008952</td>\n",
       "      <td>bj851884</td>\n",
       "      <td>9015</td>\n",
       "      <td>8f46</td>\n",
       "      <td>b2a6</td>\n",
       "      <td>1.451606e+09</td>\n",
       "      <td>1.080162</td>\n",
       "    </tr>\n",
       "    <tr>\n",
       "      <th>4</th>\n",
       "      <td>bj358929</td>\n",
       "      <td>bj851884</td>\n",
       "      <td>9015</td>\n",
       "      <td>8f46</td>\n",
       "      <td>86bb</td>\n",
       "      <td>1.451606e+09</td>\n",
       "      <td>1.024049</td>\n",
       "    </tr>\n",
       "  </tbody>\n",
       "</table>\n",
       "</div>"
      ],
      "text/plain": [
       "     custid productid eventid currency platform     timestamp    invest\n",
       "0  bk084816  bj851884    9015     8f46     e146  1.451606e+09  1.008016\n",
       "1  bj341378  bj851884    9015     8f46     e146  1.451606e+09  1.016032\n",
       "2  bj350369  bj851884    9015     0ef8     b2a6  1.451606e+09  1.555789\n",
       "3  bh008952  bj851884    9015     8f46     b2a6  1.451606e+09  1.080162\n",
       "4  bj358929  bj851884    9015     8f46     86bb  1.451606e+09  1.024049"
      ]
     },
     "execution_count": 2,
     "metadata": {},
     "output_type": "execute_result"
    }
   ],
   "source": [
    "df_train = DataFrame(df_train,columns=['custid', 'productid','eventid', 'currency',\\\n",
    "                                       'platform','timestamp', 'invest'])\n",
    "df_train.head()"
   ]
  },
  {
   "cell_type": "code",
   "execution_count": 3,
   "metadata": {
    "collapsed": false
   },
   "outputs": [
    {
     "data": {
      "text/plain": [
       "6.1067989583313462"
      ]
     },
     "execution_count": 3,
     "metadata": {},
     "output_type": "execute_result"
    }
   ],
   "source": [
    "( max(df_train['timestamp']) - min(df_train['timestamp']) )/86400"
   ]
  },
  {
   "cell_type": "code",
   "execution_count": 4,
   "metadata": {
    "collapsed": false
   },
   "outputs": [
    {
     "data": {
      "text/html": [
       "<div>\n",
       "<table border=\"1\" class=\"dataframe\">\n",
       "  <thead>\n",
       "    <tr style=\"text-align: right;\">\n",
       "      <th></th>\n",
       "      <th>custid</th>\n",
       "      <th>productid</th>\n",
       "      <th>eventid</th>\n",
       "      <th>currency</th>\n",
       "      <th>platform</th>\n",
       "      <th>timestamp</th>\n",
       "      <th>invest</th>\n",
       "    </tr>\n",
       "  </thead>\n",
       "  <tbody>\n",
       "    <tr>\n",
       "      <th>0</th>\n",
       "      <td>bk084816</td>\n",
       "      <td>bj851884</td>\n",
       "      <td>9015</td>\n",
       "      <td>8f46</td>\n",
       "      <td>e146</td>\n",
       "      <td>0.000</td>\n",
       "      <td>1.008016</td>\n",
       "    </tr>\n",
       "    <tr>\n",
       "      <th>1</th>\n",
       "      <td>bj341378</td>\n",
       "      <td>bj851884</td>\n",
       "      <td>9015</td>\n",
       "      <td>8f46</td>\n",
       "      <td>e146</td>\n",
       "      <td>0.057</td>\n",
       "      <td>1.016032</td>\n",
       "    </tr>\n",
       "    <tr>\n",
       "      <th>2</th>\n",
       "      <td>bj350369</td>\n",
       "      <td>bj851884</td>\n",
       "      <td>9015</td>\n",
       "      <td>0ef8</td>\n",
       "      <td>b2a6</td>\n",
       "      <td>0.064</td>\n",
       "      <td>1.555789</td>\n",
       "    </tr>\n",
       "    <tr>\n",
       "      <th>3</th>\n",
       "      <td>bh008952</td>\n",
       "      <td>bj851884</td>\n",
       "      <td>9015</td>\n",
       "      <td>8f46</td>\n",
       "      <td>b2a6</td>\n",
       "      <td>0.080</td>\n",
       "      <td>1.080162</td>\n",
       "    </tr>\n",
       "    <tr>\n",
       "      <th>4</th>\n",
       "      <td>bj358929</td>\n",
       "      <td>bj851884</td>\n",
       "      <td>9015</td>\n",
       "      <td>8f46</td>\n",
       "      <td>86bb</td>\n",
       "      <td>0.150</td>\n",
       "      <td>1.024049</td>\n",
       "    </tr>\n",
       "  </tbody>\n",
       "</table>\n",
       "</div>"
      ],
      "text/plain": [
       "     custid productid eventid currency platform  timestamp    invest\n",
       "0  bk084816  bj851884    9015     8f46     e146      0.000  1.008016\n",
       "1  bj341378  bj851884    9015     8f46     e146      0.057  1.016032\n",
       "2  bj350369  bj851884    9015     0ef8     b2a6      0.064  1.555789\n",
       "3  bh008952  bj851884    9015     8f46     b2a6      0.080  1.080162\n",
       "4  bj358929  bj851884    9015     8f46     86bb      0.150  1.024049"
      ]
     },
     "execution_count": 4,
     "metadata": {},
     "output_type": "execute_result"
    }
   ],
   "source": [
    "df_train['timestamp'] = df_train['timestamp'] - min(df_train['timestamp'])\n",
    "df_train.head()"
   ]
  },
  {
   "cell_type": "code",
   "execution_count": 5,
   "metadata": {
    "collapsed": false
   },
   "outputs": [],
   "source": [
    "df_train = df_train[df_train.timestamp <= 3600*23]\n",
    "len(df_train)\n",
    "df_train2 = df_train\n",
    "df_train2['timestamp'] = np.digitize(df_train2['timestamp'],range(0,3600*24,3600))"
   ]
  },
  {
   "cell_type": "code",
   "execution_count": 6,
   "metadata": {
    "collapsed": false
   },
   "outputs": [
    {
     "data": {
      "text/plain": [
       "(array([ 1.2,  1.3,  1.4,  1.5,  1.6,  1.7,  1.8,  1.9]),\n",
       " <a list of 8 Text yticklabel objects>)"
      ]
     },
     "execution_count": 6,
     "metadata": {},
     "output_type": "execute_result"
    }
   ],
   "source": [
    "group_invest = df_train2['invest'].groupby(df_train2['timestamp'])\n",
    "df_mean = DataFrame(group_invest.mean())\n",
    "invest_temp = df_mean['invest'] \n",
    "invest_temp\n",
    "\n",
    "invest_mean = []\n",
    "for i in xrange(len(invest_temp)):\n",
    "    if invest_temp[i+1] > 15:\n",
    "        invest_mean.append(15)\n",
    "    else:    \n",
    "        invest_mean.append(invest_temp[i+1])\n",
    "\n",
    "timestamp = DataFrame(df_mean.index)\n",
    "df_mean = DataFrame({'invest_mean':invest_mean})\n",
    "df_mean['timestamp'] = timestamp\n",
    "df_mean = df_mean[['timestamp','invest_mean']]\n",
    "df_mean\n",
    "\n",
    "import matplotlib.pyplot as plt\n",
    "#%matplotlib inline\n",
    "df_mean['invest_mean'].plot(legend=True,figsize=(10,4))\n",
    "plt.xlabel('Time of Day',fontsize=20)\n",
    "plt.ylabel('Investment',fontsize=20)\n",
    "plt.title(\"\")\n",
    "#plt.axis([1,4,0,2500])\n",
    "plt.grid(True)\n",
    "plt.xticks(fontsize=20)\n",
    "plt.yticks(fontsize=20)\n",
    "\n",
    "     "
   ]
  },
  {
   "cell_type": "code",
   "execution_count": 7,
   "metadata": {
    "collapsed": false
   },
   "outputs": [
    {
     "data": {
      "text/plain": [
       "(array([  4000.,   5000.,   6000.,   7000.,   8000.,   9000.,  10000.,\n",
       "         11000.,  12000.,  13000.]), <a list of 10 Text yticklabel objects>)"
      ]
     },
     "execution_count": 7,
     "metadata": {},
     "output_type": "execute_result"
    }
   ],
   "source": [
    "group_invest = df_train2['custid'].groupby(df_train2['timestamp'])\n",
    "df_count = DataFrame(group_invest.count())\n",
    " \n",
    "import matplotlib.pyplot as plt\n",
    "#%matplotlib inline\n",
    "df_count.plot(legend=True,figsize=(10,4))\n",
    "plt.xlabel('Time of Day',fontsize=20)\n",
    "plt.ylabel('# Customers',fontsize=20)\n",
    "plt.title(\"\")\n",
    "#plt.axis([1,4,0,2500])\n",
    "plt.grid(True)\n",
    "plt.xticks(fontsize=20)\n",
    "plt.yticks(fontsize=20)"
   ]
  },
  {
   "cell_type": "code",
   "execution_count": 8,
   "metadata": {
    "collapsed": false
   },
   "outputs": [],
   "source": [
    "df_train_a = df_train2[df_train2['currency'] == '8f46']\n",
    " \n",
    "group_a = df_train_a['custid'].groupby(df_train_a['timestamp'])\n",
    "df_count_a = DataFrame(group_a.count())\n",
    "\n",
    "df_count_a\n",
    " \n",
    "import matplotlib.pyplot as plt\n",
    "#%matplotlib inline\n",
    "#plt.figure(1)\n",
    "df_count_a.plot(legend=True,figsize=(10,4))\n",
    "plt.xlabel('Time of Day',fontsize=20)\n",
    "plt.ylabel('# Customers',fontsize=20)\n",
    "plt.title(\"\")\n",
    "#plt.axis([1,4,0,2500])\n",
    "plt.grid(True)\n",
    "plt.xticks(fontsize=20)\n",
    "plt.yticks(fontsize=20)\n",
    "\n",
    "df_train_a = df_train2[df_train2['currency'] == '0ef8']\n",
    " \n",
    "group_a = df_train_a['custid'].groupby(df_train_a['timestamp'])\n",
    "df_count_a = DataFrame(group_a.count())\n",
    "\n",
    "df_count_a\n",
    " \n",
    "#plt.figure(1)\n",
    "df_count_a.plot(legend=True,figsize=(10,4))\n",
    "plt.xlabel('Time of Day',fontsize=20)\n",
    "plt.ylabel('# Customers',fontsize=20)\n",
    "plt.title(\"\")\n",
    "#plt.axis([1,4,0,2500])\n",
    "plt.grid(True)\n",
    "plt.xticks(fontsize=20)\n",
    "plt.yticks(fontsize=20)\n",
    " \n",
    "plt.show() "
   ]
  },
  {
   "cell_type": "code",
   "execution_count": null,
   "metadata": {
    "collapsed": true
   },
   "outputs": [],
   "source": []
  }
 ],
 "metadata": {
  "kernelspec": {
   "display_name": "Python 2",
   "language": "python",
   "name": "python2"
  },
  "language_info": {
   "codemirror_mode": {
    "name": "ipython",
    "version": 2
   },
   "file_extension": ".py",
   "mimetype": "text/x-python",
   "name": "python",
   "nbconvert_exporter": "python",
   "pygments_lexer": "ipython2",
   "version": "2.7.12"
  }
 },
 "nbformat": 4,
 "nbformat_minor": 0
}
