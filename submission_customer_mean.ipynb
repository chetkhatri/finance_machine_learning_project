{
 "cells": [
  {
   "cell_type": "code",
   "execution_count": null,
   "metadata": {
    "collapsed": false
   },
   "outputs": [],
   "source": [
    "import numpy as np\n",
    "import pandas as pd\n",
    "from pandas import Series,DataFrame\n",
    "from IPython.display import display\n",
    "\n",
    "# display(pd.read_csv('./train_data.csv', nrows=5))\n",
    "file = \"train_data.csv\"\n",
    "# df_train = pd.read_csv(file, nrows = 5000000) \n",
    "# df_train = pd.read_csv(file) \n",
    "df_train =  pd.read_csv(file, usecols=['custid','invest'])"
   ]
  },
  {
   "cell_type": "code",
   "execution_count": null,
   "metadata": {
    "collapsed": false
   },
   "outputs": [],
   "source": [
    "df_train = DataFrame(df_train,columns=['invest','custid'])\n",
    "# df_train.head()"
   ]
  },
  {
   "cell_type": "code",
   "execution_count": null,
   "metadata": {
    "collapsed": false
   },
   "outputs": [],
   "source": [
    "group_custid = df_train['invest'].groupby(df_train['custid'])\n",
    "df_mean = DataFrame(group_custid.mean())\n",
    "invest_temp = df_mean['invest'] \n",
    "\n",
    "invest_mean = []\n",
    "for i in range(len(invest_temp)):\n",
    "    if invest_temp[i] > 15:\n",
    "        invest_mean.append(15)\n",
    "    else:    \n",
    "        invest_mean.append(invest_temp[i])\n",
    "        \n",
    "custid = DataFrame(df_mean.index)\n",
    "df_mean = DataFrame({'invest_mean':invest_mean})\n",
    "df_mean['custid'] = custid\n",
    "df_mean = df_mean[['custid','invest_mean']]\n",
    "# df_mean[df_mean['custid']=='bj063739']"
   ]
  },
  {
   "cell_type": "code",
   "execution_count": null,
   "metadata": {
    "collapsed": false
   },
   "outputs": [],
   "source": [
    "print df_mean"
   ]
  },
  {
   "cell_type": "code",
   "execution_count": null,
   "metadata": {
    "collapsed": false
   },
   "outputs": [],
   "source": [
    "# display(pd.read_csv('./test_data.csv', nrows=5))\n",
    "file = \"test_data.csv\"\n",
    "df_test = pd.read_csv(file) "
   ]
  },
  {
   "cell_type": "code",
   "execution_count": null,
   "metadata": {
    "collapsed": false
   },
   "outputs": [],
   "source": [
    "df_test = DataFrame(df_test,columns=['invest','custid'])\n",
    "# df_test.head()"
   ]
  },
  {
   "cell_type": "code",
   "execution_count": null,
   "metadata": {
    "collapsed": false
   },
   "outputs": [],
   "source": [
    "df_final = pd.merge(df_test,df_mean)\n",
    "df_final = df_final.drop('invest',axis=1)\n",
    "submission = df_final['invest_mean']\n",
    "submission.to_csv('submission.csv', index = False)"
   ]
  },
  {
   "cell_type": "code",
   "execution_count": null,
   "metadata": {
    "collapsed": false
   },
   "outputs": [],
   "source": [
    "submission"
   ]
  },
  {
   "cell_type": "code",
   "execution_count": null,
   "metadata": {
    "collapsed": true
   },
   "outputs": [],
   "source": []
  }
 ],
 "metadata": {
  "kernelspec": {
   "display_name": "Python 2",
   "language": "python",
   "name": "python2"
  },
  "language_info": {
   "codemirror_mode": {
    "name": "ipython",
    "version": 2
   },
   "file_extension": ".py",
   "mimetype": "text/x-python",
   "name": "python",
   "nbconvert_exporter": "python",
   "pygments_lexer": "ipython2",
   "version": "2.7.12"
  }
 },
 "nbformat": 4,
 "nbformat_minor": 0
}
